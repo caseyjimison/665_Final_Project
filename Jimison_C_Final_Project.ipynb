{
 "cells": [
  {
   "cell_type": "markdown",
   "metadata": {},
   "source": [
    "### C. Jimison \"On my honor, as a student, I have neither given nor received unauthorized data on this academic work.\""
   ]
  },
  {
   "cell_type": "markdown",
   "metadata": {},
   "source": [
    "## Importing Packages"
   ]
  },
  {
   "cell_type": "code",
   "execution_count": 215,
   "metadata": {},
   "outputs": [],
   "source": [
    "import pandas as pd\n",
    "import numpy as np\n",
    "from scipy import stats\n",
    "import matplotlib.pyplot as plt\n",
    "%matplotlib inline\n",
    "import seaborn as sns\n",
    "\n",
    "#regression packages\n",
    "import sklearn.linear_model as lm\n",
    "from sklearn.metrics import mean_squared_error\n",
    "from sklearn.metrics import explained_variance_score\n",
    "# model validation\n",
    "from sklearn.model_selection import train_test_split\n",
    "\n",
    "import statsmodels.api as sm\n",
    "from statsmodels.formula.api import ols\n",
    "\n",
    "# Classifiers\n",
    "#import decisiontreeclassifier\n",
    "from sklearn import tree\n",
    "from sklearn.tree import DecisionTreeClassifier\n",
    "#import logisticregression classifier\n",
    "from sklearn.linear_model import LogisticRegression\n",
    "import statsmodels.api as sm\n",
    "#import knn classifier\n",
    "from sklearn.neighbors import KNeighborsClassifier\n",
    "\n",
    "#for validating your classification model\n",
    "from sklearn.model_selection import cross_val_score\n",
    "from sklearn import metrics\n",
    "from sklearn.metrics import roc_curve, auc\n",
    "from sklearn.metrics import roc_auc_score\n",
    "\n",
    "# feature selection\n",
    "from sklearn.feature_selection import RFE\n",
    "from sklearn.ensemble import ExtraTreesClassifier\n",
    "from sklearn.feature_selection import SelectKBest\n",
    "from sklearn.feature_selection import chi2\n",
    "\n",
    "# grid search\n",
    "from sklearn.model_selection import GridSearchCV\n",
    "\n",
    "from sklearn.cluster import KMeans\n",
    "\n",
    "from sklearn.cluster import AgglomerativeClustering\n",
    "from sklearn.metrics import pairwise_distances"
   ]
  },
  {
   "cell_type": "code",
   "execution_count": 216,
   "metadata": {},
   "outputs": [],
   "source": [
    "# Importing Data for project\n",
    "df = pd.read_csv('movie_metadata.csv')"
   ]
  },
  {
   "cell_type": "code",
   "execution_count": 217,
   "metadata": {},
   "outputs": [
    {
     "data": {
      "text/plain": [
       "Index(['color', 'director_name', 'num_critic_for_reviews', 'duration',\n",
       "       'director_facebook_likes', 'actor_3_facebook_likes', 'actor_2_name',\n",
       "       'actor_1_facebook_likes', 'gross', 'genres', 'actor_1_name',\n",
       "       'movie_title', 'num_voted_users', 'cast_total_facebook_likes',\n",
       "       'actor_3_name', 'facenumber_in_poster', 'plot_keywords',\n",
       "       'movie_imdb_link', 'num_user_for_reviews', 'language', 'country',\n",
       "       'content_rating', 'budget', 'title_year', 'actor_2_facebook_likes',\n",
       "       'imdb_score', 'aspect_ratio', 'movie_facebook_likes'],\n",
       "      dtype='object')"
      ]
     },
     "execution_count": 217,
     "metadata": {},
     "output_type": "execute_result"
    }
   ],
   "source": [
    "# Viewing column heads\n",
    "df.columns"
   ]
  },
  {
   "cell_type": "markdown",
   "metadata": {},
   "source": [
    "# 1. Business Understanding"
   ]
  },
  {
   "cell_type": "markdown",
   "metadata": {},
   "source": [
    "### a) The goal of this project is to predict the potential succes of a movie based on different variables that have to do with the production and promotion of the film.\n",
    "### b) If I were doing the data collection, some of the firsgt datapoints that i would look for when it comes to movies are; overall budget of production, director, time of release, etc.\n",
    "### c) We will use a correlation analysis to see if these variables that i mentioned, or other ones, would be best for predicting movie score through iMDB."
   ]
  },
  {
   "cell_type": "markdown",
   "metadata": {},
   "source": [
    "# 2. Data Understanding"
   ]
  },
  {
   "cell_type": "code",
   "execution_count": 218,
   "metadata": {},
   "outputs": [
    {
     "data": {
      "text/html": [
       "<div>\n",
       "<style scoped>\n",
       "    .dataframe tbody tr th:only-of-type {\n",
       "        vertical-align: middle;\n",
       "    }\n",
       "\n",
       "    .dataframe tbody tr th {\n",
       "        vertical-align: top;\n",
       "    }\n",
       "\n",
       "    .dataframe thead th {\n",
       "        text-align: right;\n",
       "    }\n",
       "</style>\n",
       "<table border=\"1\" class=\"dataframe\">\n",
       "  <thead>\n",
       "    <tr style=\"text-align: right;\">\n",
       "      <th></th>\n",
       "      <th>num_critic_for_reviews</th>\n",
       "      <th>duration</th>\n",
       "      <th>director_facebook_likes</th>\n",
       "      <th>actor_3_facebook_likes</th>\n",
       "      <th>actor_1_facebook_likes</th>\n",
       "      <th>gross</th>\n",
       "      <th>num_voted_users</th>\n",
       "      <th>cast_total_facebook_likes</th>\n",
       "      <th>facenumber_in_poster</th>\n",
       "      <th>num_user_for_reviews</th>\n",
       "      <th>budget</th>\n",
       "      <th>title_year</th>\n",
       "      <th>actor_2_facebook_likes</th>\n",
       "      <th>imdb_score</th>\n",
       "      <th>aspect_ratio</th>\n",
       "      <th>movie_facebook_likes</th>\n",
       "    </tr>\n",
       "  </thead>\n",
       "  <tbody>\n",
       "    <tr>\n",
       "      <th>count</th>\n",
       "      <td>4993.000000</td>\n",
       "      <td>5028.000000</td>\n",
       "      <td>4939.000000</td>\n",
       "      <td>5020.000000</td>\n",
       "      <td>5036.000000</td>\n",
       "      <td>4.159000e+03</td>\n",
       "      <td>5.043000e+03</td>\n",
       "      <td>5043.000000</td>\n",
       "      <td>5030.000000</td>\n",
       "      <td>5022.000000</td>\n",
       "      <td>4.551000e+03</td>\n",
       "      <td>4935.000000</td>\n",
       "      <td>5030.000000</td>\n",
       "      <td>5043.000000</td>\n",
       "      <td>4714.000000</td>\n",
       "      <td>5043.000000</td>\n",
       "    </tr>\n",
       "    <tr>\n",
       "      <th>mean</th>\n",
       "      <td>140.194272</td>\n",
       "      <td>107.201074</td>\n",
       "      <td>686.509212</td>\n",
       "      <td>645.009761</td>\n",
       "      <td>6560.047061</td>\n",
       "      <td>4.846841e+07</td>\n",
       "      <td>8.366816e+04</td>\n",
       "      <td>9699.063851</td>\n",
       "      <td>1.371173</td>\n",
       "      <td>272.770808</td>\n",
       "      <td>3.975262e+07</td>\n",
       "      <td>2002.470517</td>\n",
       "      <td>1651.754473</td>\n",
       "      <td>6.442138</td>\n",
       "      <td>2.220403</td>\n",
       "      <td>7525.964505</td>\n",
       "    </tr>\n",
       "    <tr>\n",
       "      <th>std</th>\n",
       "      <td>121.601675</td>\n",
       "      <td>25.197441</td>\n",
       "      <td>2813.328607</td>\n",
       "      <td>1665.041728</td>\n",
       "      <td>15020.759120</td>\n",
       "      <td>6.845299e+07</td>\n",
       "      <td>1.384853e+05</td>\n",
       "      <td>18163.799124</td>\n",
       "      <td>2.013576</td>\n",
       "      <td>377.982886</td>\n",
       "      <td>2.061149e+08</td>\n",
       "      <td>12.474599</td>\n",
       "      <td>4042.438863</td>\n",
       "      <td>1.125116</td>\n",
       "      <td>1.385113</td>\n",
       "      <td>19320.445110</td>\n",
       "    </tr>\n",
       "    <tr>\n",
       "      <th>min</th>\n",
       "      <td>1.000000</td>\n",
       "      <td>7.000000</td>\n",
       "      <td>0.000000</td>\n",
       "      <td>0.000000</td>\n",
       "      <td>0.000000</td>\n",
       "      <td>1.620000e+02</td>\n",
       "      <td>5.000000e+00</td>\n",
       "      <td>0.000000</td>\n",
       "      <td>0.000000</td>\n",
       "      <td>1.000000</td>\n",
       "      <td>2.180000e+02</td>\n",
       "      <td>1916.000000</td>\n",
       "      <td>0.000000</td>\n",
       "      <td>1.600000</td>\n",
       "      <td>1.180000</td>\n",
       "      <td>0.000000</td>\n",
       "    </tr>\n",
       "    <tr>\n",
       "      <th>25%</th>\n",
       "      <td>50.000000</td>\n",
       "      <td>93.000000</td>\n",
       "      <td>7.000000</td>\n",
       "      <td>133.000000</td>\n",
       "      <td>614.000000</td>\n",
       "      <td>5.340988e+06</td>\n",
       "      <td>8.593500e+03</td>\n",
       "      <td>1411.000000</td>\n",
       "      <td>0.000000</td>\n",
       "      <td>65.000000</td>\n",
       "      <td>6.000000e+06</td>\n",
       "      <td>1999.000000</td>\n",
       "      <td>281.000000</td>\n",
       "      <td>5.800000</td>\n",
       "      <td>1.850000</td>\n",
       "      <td>0.000000</td>\n",
       "    </tr>\n",
       "    <tr>\n",
       "      <th>50%</th>\n",
       "      <td>110.000000</td>\n",
       "      <td>103.000000</td>\n",
       "      <td>49.000000</td>\n",
       "      <td>371.500000</td>\n",
       "      <td>988.000000</td>\n",
       "      <td>2.551750e+07</td>\n",
       "      <td>3.435900e+04</td>\n",
       "      <td>3090.000000</td>\n",
       "      <td>1.000000</td>\n",
       "      <td>156.000000</td>\n",
       "      <td>2.000000e+07</td>\n",
       "      <td>2005.000000</td>\n",
       "      <td>595.000000</td>\n",
       "      <td>6.600000</td>\n",
       "      <td>2.350000</td>\n",
       "      <td>166.000000</td>\n",
       "    </tr>\n",
       "    <tr>\n",
       "      <th>75%</th>\n",
       "      <td>195.000000</td>\n",
       "      <td>118.000000</td>\n",
       "      <td>194.500000</td>\n",
       "      <td>636.000000</td>\n",
       "      <td>11000.000000</td>\n",
       "      <td>6.230944e+07</td>\n",
       "      <td>9.630900e+04</td>\n",
       "      <td>13756.500000</td>\n",
       "      <td>2.000000</td>\n",
       "      <td>326.000000</td>\n",
       "      <td>4.500000e+07</td>\n",
       "      <td>2011.000000</td>\n",
       "      <td>918.000000</td>\n",
       "      <td>7.200000</td>\n",
       "      <td>2.350000</td>\n",
       "      <td>3000.000000</td>\n",
       "    </tr>\n",
       "    <tr>\n",
       "      <th>max</th>\n",
       "      <td>813.000000</td>\n",
       "      <td>511.000000</td>\n",
       "      <td>23000.000000</td>\n",
       "      <td>23000.000000</td>\n",
       "      <td>640000.000000</td>\n",
       "      <td>7.605058e+08</td>\n",
       "      <td>1.689764e+06</td>\n",
       "      <td>656730.000000</td>\n",
       "      <td>43.000000</td>\n",
       "      <td>5060.000000</td>\n",
       "      <td>1.221550e+10</td>\n",
       "      <td>2016.000000</td>\n",
       "      <td>137000.000000</td>\n",
       "      <td>9.500000</td>\n",
       "      <td>16.000000</td>\n",
       "      <td>349000.000000</td>\n",
       "    </tr>\n",
       "  </tbody>\n",
       "</table>\n",
       "</div>"
      ],
      "text/plain": [
       "       num_critic_for_reviews     duration  director_facebook_likes  \\\n",
       "count             4993.000000  5028.000000              4939.000000   \n",
       "mean               140.194272   107.201074               686.509212   \n",
       "std                121.601675    25.197441              2813.328607   \n",
       "min                  1.000000     7.000000                 0.000000   \n",
       "25%                 50.000000    93.000000                 7.000000   \n",
       "50%                110.000000   103.000000                49.000000   \n",
       "75%                195.000000   118.000000               194.500000   \n",
       "max                813.000000   511.000000             23000.000000   \n",
       "\n",
       "       actor_3_facebook_likes  actor_1_facebook_likes         gross  \\\n",
       "count             5020.000000             5036.000000  4.159000e+03   \n",
       "mean               645.009761             6560.047061  4.846841e+07   \n",
       "std               1665.041728            15020.759120  6.845299e+07   \n",
       "min                  0.000000                0.000000  1.620000e+02   \n",
       "25%                133.000000              614.000000  5.340988e+06   \n",
       "50%                371.500000              988.000000  2.551750e+07   \n",
       "75%                636.000000            11000.000000  6.230944e+07   \n",
       "max              23000.000000           640000.000000  7.605058e+08   \n",
       "\n",
       "       num_voted_users  cast_total_facebook_likes  facenumber_in_poster  \\\n",
       "count     5.043000e+03                5043.000000           5030.000000   \n",
       "mean      8.366816e+04                9699.063851              1.371173   \n",
       "std       1.384853e+05               18163.799124              2.013576   \n",
       "min       5.000000e+00                   0.000000              0.000000   \n",
       "25%       8.593500e+03                1411.000000              0.000000   \n",
       "50%       3.435900e+04                3090.000000              1.000000   \n",
       "75%       9.630900e+04               13756.500000              2.000000   \n",
       "max       1.689764e+06              656730.000000             43.000000   \n",
       "\n",
       "       num_user_for_reviews        budget   title_year  \\\n",
       "count           5022.000000  4.551000e+03  4935.000000   \n",
       "mean             272.770808  3.975262e+07  2002.470517   \n",
       "std              377.982886  2.061149e+08    12.474599   \n",
       "min                1.000000  2.180000e+02  1916.000000   \n",
       "25%               65.000000  6.000000e+06  1999.000000   \n",
       "50%              156.000000  2.000000e+07  2005.000000   \n",
       "75%              326.000000  4.500000e+07  2011.000000   \n",
       "max             5060.000000  1.221550e+10  2016.000000   \n",
       "\n",
       "       actor_2_facebook_likes   imdb_score  aspect_ratio  movie_facebook_likes  \n",
       "count             5030.000000  5043.000000   4714.000000           5043.000000  \n",
       "mean              1651.754473     6.442138      2.220403           7525.964505  \n",
       "std               4042.438863     1.125116      1.385113          19320.445110  \n",
       "min                  0.000000     1.600000      1.180000              0.000000  \n",
       "25%                281.000000     5.800000      1.850000              0.000000  \n",
       "50%                595.000000     6.600000      2.350000            166.000000  \n",
       "75%                918.000000     7.200000      2.350000           3000.000000  \n",
       "max             137000.000000     9.500000     16.000000         349000.000000  "
      ]
     },
     "execution_count": 218,
     "metadata": {},
     "output_type": "execute_result"
    }
   ],
   "source": [
    "df.describe()"
   ]
  },
  {
   "cell_type": "code",
   "execution_count": 219,
   "metadata": {},
   "outputs": [
    {
     "data": {
      "text/plain": [
       "5043"
      ]
     },
     "execution_count": 219,
     "metadata": {},
     "output_type": "execute_result"
    }
   ],
   "source": [
    "len(df)"
   ]
  },
  {
   "cell_type": "code",
   "execution_count": 220,
   "metadata": {},
   "outputs": [
    {
     "name": "stdout",
     "output_type": "stream",
     "text": [
      "<class 'pandas.core.frame.DataFrame'>\n",
      "RangeIndex: 5043 entries, 0 to 5042\n",
      "Data columns (total 28 columns):\n",
      "color                        5024 non-null object\n",
      "director_name                4939 non-null object\n",
      "num_critic_for_reviews       4993 non-null float64\n",
      "duration                     5028 non-null float64\n",
      "director_facebook_likes      4939 non-null float64\n",
      "actor_3_facebook_likes       5020 non-null float64\n",
      "actor_2_name                 5030 non-null object\n",
      "actor_1_facebook_likes       5036 non-null float64\n",
      "gross                        4159 non-null float64\n",
      "genres                       5043 non-null object\n",
      "actor_1_name                 5036 non-null object\n",
      "movie_title                  5043 non-null object\n",
      "num_voted_users              5043 non-null int64\n",
      "cast_total_facebook_likes    5043 non-null int64\n",
      "actor_3_name                 5020 non-null object\n",
      "facenumber_in_poster         5030 non-null float64\n",
      "plot_keywords                4890 non-null object\n",
      "movie_imdb_link              5043 non-null object\n",
      "num_user_for_reviews         5022 non-null float64\n",
      "language                     5031 non-null object\n",
      "country                      5038 non-null object\n",
      "content_rating               4740 non-null object\n",
      "budget                       4551 non-null float64\n",
      "title_year                   4935 non-null float64\n",
      "actor_2_facebook_likes       5030 non-null float64\n",
      "imdb_score                   5043 non-null float64\n",
      "aspect_ratio                 4714 non-null float64\n",
      "movie_facebook_likes         5043 non-null int64\n",
      "dtypes: float64(13), int64(3), object(12)\n",
      "memory usage: 1.1+ MB\n"
     ]
    }
   ],
   "source": [
    "df.info()"
   ]
  },
  {
   "cell_type": "code",
   "execution_count": 221,
   "metadata": {},
   "outputs": [
    {
     "data": {
      "text/plain": [
       "6.7    223\n",
       "6.6    201\n",
       "7.2    195\n",
       "6.5    186\n",
       "6.4    185\n",
       "Name: imdb_score, dtype: int64"
      ]
     },
     "execution_count": 221,
     "metadata": {},
     "output_type": "execute_result"
    }
   ],
   "source": [
    "df['imdb_score'].value_counts().sort_values(ascending=False).head()"
   ]
  },
  {
   "cell_type": "markdown",
   "metadata": {},
   "source": [
    "### Looks like a lot of Average Movies!!"
   ]
  },
  {
   "cell_type": "markdown",
   "metadata": {},
   "source": [
    "# 3. Data Preparation"
   ]
  },
  {
   "cell_type": "code",
   "execution_count": 222,
   "metadata": {},
   "outputs": [
    {
     "data": {
      "text/html": [
       "<div>\n",
       "<style scoped>\n",
       "    .dataframe tbody tr th:only-of-type {\n",
       "        vertical-align: middle;\n",
       "    }\n",
       "\n",
       "    .dataframe tbody tr th {\n",
       "        vertical-align: top;\n",
       "    }\n",
       "\n",
       "    .dataframe thead th {\n",
       "        text-align: right;\n",
       "    }\n",
       "</style>\n",
       "<table border=\"1\" class=\"dataframe\">\n",
       "  <thead>\n",
       "    <tr style=\"text-align: right;\">\n",
       "      <th></th>\n",
       "      <th>color</th>\n",
       "      <th>director_name</th>\n",
       "      <th>num_critic_for_reviews</th>\n",
       "      <th>duration</th>\n",
       "      <th>director_facebook_likes</th>\n",
       "      <th>actor_3_facebook_likes</th>\n",
       "      <th>actor_2_name</th>\n",
       "      <th>actor_1_facebook_likes</th>\n",
       "      <th>gross</th>\n",
       "      <th>genres</th>\n",
       "      <th>...</th>\n",
       "      <th>num_user_for_reviews</th>\n",
       "      <th>language</th>\n",
       "      <th>country</th>\n",
       "      <th>content_rating</th>\n",
       "      <th>budget</th>\n",
       "      <th>title_year</th>\n",
       "      <th>actor_2_facebook_likes</th>\n",
       "      <th>imdb_score</th>\n",
       "      <th>aspect_ratio</th>\n",
       "      <th>movie_facebook_likes</th>\n",
       "    </tr>\n",
       "  </thead>\n",
       "  <tbody>\n",
       "    <tr>\n",
       "      <th>0</th>\n",
       "      <td>Color</td>\n",
       "      <td>James Cameron</td>\n",
       "      <td>723.0</td>\n",
       "      <td>178.0</td>\n",
       "      <td>0.0</td>\n",
       "      <td>855.0</td>\n",
       "      <td>Joel David Moore</td>\n",
       "      <td>1000.0</td>\n",
       "      <td>760505847.0</td>\n",
       "      <td>Action|Adventure|Fantasy|Sci-Fi</td>\n",
       "      <td>...</td>\n",
       "      <td>3054.0</td>\n",
       "      <td>English</td>\n",
       "      <td>USA</td>\n",
       "      <td>PG-13</td>\n",
       "      <td>237000000.0</td>\n",
       "      <td>2009.0</td>\n",
       "      <td>936.0</td>\n",
       "      <td>7.9</td>\n",
       "      <td>1.78</td>\n",
       "      <td>33000</td>\n",
       "    </tr>\n",
       "    <tr>\n",
       "      <th>1</th>\n",
       "      <td>Color</td>\n",
       "      <td>Gore Verbinski</td>\n",
       "      <td>302.0</td>\n",
       "      <td>169.0</td>\n",
       "      <td>563.0</td>\n",
       "      <td>1000.0</td>\n",
       "      <td>Orlando Bloom</td>\n",
       "      <td>40000.0</td>\n",
       "      <td>309404152.0</td>\n",
       "      <td>Action|Adventure|Fantasy</td>\n",
       "      <td>...</td>\n",
       "      <td>1238.0</td>\n",
       "      <td>English</td>\n",
       "      <td>USA</td>\n",
       "      <td>PG-13</td>\n",
       "      <td>300000000.0</td>\n",
       "      <td>2007.0</td>\n",
       "      <td>5000.0</td>\n",
       "      <td>7.1</td>\n",
       "      <td>2.35</td>\n",
       "      <td>0</td>\n",
       "    </tr>\n",
       "    <tr>\n",
       "      <th>2</th>\n",
       "      <td>Color</td>\n",
       "      <td>Sam Mendes</td>\n",
       "      <td>602.0</td>\n",
       "      <td>148.0</td>\n",
       "      <td>0.0</td>\n",
       "      <td>161.0</td>\n",
       "      <td>Rory Kinnear</td>\n",
       "      <td>11000.0</td>\n",
       "      <td>200074175.0</td>\n",
       "      <td>Action|Adventure|Thriller</td>\n",
       "      <td>...</td>\n",
       "      <td>994.0</td>\n",
       "      <td>English</td>\n",
       "      <td>UK</td>\n",
       "      <td>PG-13</td>\n",
       "      <td>245000000.0</td>\n",
       "      <td>2015.0</td>\n",
       "      <td>393.0</td>\n",
       "      <td>6.8</td>\n",
       "      <td>2.35</td>\n",
       "      <td>85000</td>\n",
       "    </tr>\n",
       "    <tr>\n",
       "      <th>3</th>\n",
       "      <td>Color</td>\n",
       "      <td>Christopher Nolan</td>\n",
       "      <td>813.0</td>\n",
       "      <td>164.0</td>\n",
       "      <td>22000.0</td>\n",
       "      <td>23000.0</td>\n",
       "      <td>Christian Bale</td>\n",
       "      <td>27000.0</td>\n",
       "      <td>448130642.0</td>\n",
       "      <td>Action|Thriller</td>\n",
       "      <td>...</td>\n",
       "      <td>2701.0</td>\n",
       "      <td>English</td>\n",
       "      <td>USA</td>\n",
       "      <td>PG-13</td>\n",
       "      <td>250000000.0</td>\n",
       "      <td>2012.0</td>\n",
       "      <td>23000.0</td>\n",
       "      <td>8.5</td>\n",
       "      <td>2.35</td>\n",
       "      <td>164000</td>\n",
       "    </tr>\n",
       "    <tr>\n",
       "      <th>5</th>\n",
       "      <td>Color</td>\n",
       "      <td>Andrew Stanton</td>\n",
       "      <td>462.0</td>\n",
       "      <td>132.0</td>\n",
       "      <td>475.0</td>\n",
       "      <td>530.0</td>\n",
       "      <td>Samantha Morton</td>\n",
       "      <td>640.0</td>\n",
       "      <td>73058679.0</td>\n",
       "      <td>Action|Adventure|Sci-Fi</td>\n",
       "      <td>...</td>\n",
       "      <td>738.0</td>\n",
       "      <td>English</td>\n",
       "      <td>USA</td>\n",
       "      <td>PG-13</td>\n",
       "      <td>263700000.0</td>\n",
       "      <td>2012.0</td>\n",
       "      <td>632.0</td>\n",
       "      <td>6.6</td>\n",
       "      <td>2.35</td>\n",
       "      <td>24000</td>\n",
       "    </tr>\n",
       "  </tbody>\n",
       "</table>\n",
       "<p>5 rows × 28 columns</p>\n",
       "</div>"
      ],
      "text/plain": [
       "   color      director_name  num_critic_for_reviews  duration  \\\n",
       "0  Color      James Cameron                   723.0     178.0   \n",
       "1  Color     Gore Verbinski                   302.0     169.0   \n",
       "2  Color         Sam Mendes                   602.0     148.0   \n",
       "3  Color  Christopher Nolan                   813.0     164.0   \n",
       "5  Color     Andrew Stanton                   462.0     132.0   \n",
       "\n",
       "   director_facebook_likes  actor_3_facebook_likes      actor_2_name  \\\n",
       "0                      0.0                   855.0  Joel David Moore   \n",
       "1                    563.0                  1000.0     Orlando Bloom   \n",
       "2                      0.0                   161.0      Rory Kinnear   \n",
       "3                  22000.0                 23000.0    Christian Bale   \n",
       "5                    475.0                   530.0   Samantha Morton   \n",
       "\n",
       "   actor_1_facebook_likes        gross                           genres  \\\n",
       "0                  1000.0  760505847.0  Action|Adventure|Fantasy|Sci-Fi   \n",
       "1                 40000.0  309404152.0         Action|Adventure|Fantasy   \n",
       "2                 11000.0  200074175.0        Action|Adventure|Thriller   \n",
       "3                 27000.0  448130642.0                  Action|Thriller   \n",
       "5                   640.0   73058679.0          Action|Adventure|Sci-Fi   \n",
       "\n",
       "          ...          num_user_for_reviews language  country  content_rating  \\\n",
       "0         ...                        3054.0  English      USA           PG-13   \n",
       "1         ...                        1238.0  English      USA           PG-13   \n",
       "2         ...                         994.0  English       UK           PG-13   \n",
       "3         ...                        2701.0  English      USA           PG-13   \n",
       "5         ...                         738.0  English      USA           PG-13   \n",
       "\n",
       "        budget  title_year actor_2_facebook_likes imdb_score  aspect_ratio  \\\n",
       "0  237000000.0      2009.0                  936.0        7.9          1.78   \n",
       "1  300000000.0      2007.0                 5000.0        7.1          2.35   \n",
       "2  245000000.0      2015.0                  393.0        6.8          2.35   \n",
       "3  250000000.0      2012.0                23000.0        8.5          2.35   \n",
       "5  263700000.0      2012.0                  632.0        6.6          2.35   \n",
       "\n",
       "  movie_facebook_likes  \n",
       "0                33000  \n",
       "1                    0  \n",
       "2                85000  \n",
       "3               164000  \n",
       "5                24000  \n",
       "\n",
       "[5 rows x 28 columns]"
      ]
     },
     "execution_count": 222,
     "metadata": {},
     "output_type": "execute_result"
    }
   ],
   "source": [
    "df = df.dropna()\n",
    "df.head()"
   ]
  },
  {
   "cell_type": "code",
   "execution_count": 223,
   "metadata": {},
   "outputs": [
    {
     "name": "stdout",
     "output_type": "stream",
     "text": [
      "<class 'pandas.core.frame.DataFrame'>\n",
      "Int64Index: 3756 entries, 0 to 5042\n",
      "Data columns (total 28 columns):\n",
      "color                        3756 non-null object\n",
      "director_name                3756 non-null object\n",
      "num_critic_for_reviews       3756 non-null float64\n",
      "duration                     3756 non-null float64\n",
      "director_facebook_likes      3756 non-null float64\n",
      "actor_3_facebook_likes       3756 non-null float64\n",
      "actor_2_name                 3756 non-null object\n",
      "actor_1_facebook_likes       3756 non-null float64\n",
      "gross                        3756 non-null float64\n",
      "genres                       3756 non-null object\n",
      "actor_1_name                 3756 non-null object\n",
      "movie_title                  3756 non-null object\n",
      "num_voted_users              3756 non-null int64\n",
      "cast_total_facebook_likes    3756 non-null int64\n",
      "actor_3_name                 3756 non-null object\n",
      "facenumber_in_poster         3756 non-null float64\n",
      "plot_keywords                3756 non-null object\n",
      "movie_imdb_link              3756 non-null object\n",
      "num_user_for_reviews         3756 non-null float64\n",
      "language                     3756 non-null object\n",
      "country                      3756 non-null object\n",
      "content_rating               3756 non-null object\n",
      "budget                       3756 non-null float64\n",
      "title_year                   3756 non-null float64\n",
      "actor_2_facebook_likes       3756 non-null float64\n",
      "imdb_score                   3756 non-null float64\n",
      "aspect_ratio                 3756 non-null float64\n",
      "movie_facebook_likes         3756 non-null int64\n",
      "dtypes: float64(13), int64(3), object(12)\n",
      "memory usage: 851.0+ KB\n"
     ]
    }
   ],
   "source": [
    "df.info()"
   ]
  },
  {
   "cell_type": "markdown",
   "metadata": {},
   "source": [
    "# 4. Business Intelligence"
   ]
  },
  {
   "cell_type": "code",
   "execution_count": 224,
   "metadata": {},
   "outputs": [
    {
     "name": "stdout",
     "output_type": "stream",
     "text": [
      "173665607240.0\n",
      "46236849.637912676\n",
      "110.25798722044729\n"
     ]
    }
   ],
   "source": [
    "## What is the sum of budget for these movies?\n",
    "## What is the average Budget for these Movies?\n",
    "## What is the average duration of these movies?\n",
    "print(df['budget'].sum())\n",
    "print(df['budget'].mean())\n",
    "print(df['duration'].mean())"
   ]
  },
  {
   "cell_type": "code",
   "execution_count": 225,
   "metadata": {},
   "outputs": [
    {
     "data": {
      "image/png": "[encoded data removed]",
      "text/plain": [
       "<Figure size 432x288 with 1 Axes>"
      ]
     },
     "metadata": {
      "needs_background": "light"
     },
     "output_type": "display_data"
    }
   ],
   "source": [
    "# Which genre has the highest total iMDB Scores\n",
    "df.groupby('genres')['imdb_score'].sum().sort_values(ascending=False).head().plot(kind='bar');"
   ]
  },
  {
   "cell_type": "code",
   "execution_count": 226,
   "metadata": {},
   "outputs": [
    {
     "data": {
      "image/png": "[encoded data removed]",
      "text/plain": [
       "<Figure size 432x288 with 1 Axes>"
      ]
     },
     "metadata": {
      "needs_background": "light"
     },
     "output_type": "display_data"
    }
   ],
   "source": [
    "# Which category, black or white, has a higher overall average iMDB Score?\n",
    "df.groupby('color')['imdb_score'].mean().sort_values(ascending=False).head().plot(kind='bar');"
   ]
  },
  {
   "cell_type": "code",
   "execution_count": 227,
   "metadata": {},
   "outputs": [
    {
     "data": {
      "image/png": "[encoded data removed]",
      "text/plain": [
       "<Figure size 432x288 with 1 Axes>"
      ]
     },
     "metadata": {
      "needs_background": "light"
     },
     "output_type": "display_data"
    }
   ],
   "source": [
    "# Which language has the highest average iMDB Score?\n",
    "# Where is English in the rankings?\n",
    "df.groupby('language')['imdb_score'].mean().sort_values(ascending=False).plot(kind='bar');"
   ]
  },
  {
   "cell_type": "code",
   "execution_count": 228,
   "metadata": {},
   "outputs": [
    {
     "name": "stderr",
     "output_type": "stream",
     "text": [
      "C:\\casey\\Anaconda3\\lib\\site-packages\\scipy\\stats\\stats.py:1713: FutureWarning: Using a non-tuple sequence for multidimensional indexing is deprecated; use `arr[tuple(seq)]` instead of `arr[seq]`. In the future this will be interpreted as an array index, `arr[np.array(seq)]`, which will result either in an error or a different result.\n",
      "  return np.add.reduce(sorted[indexer] * weights, axis=axis) / sumval\n"
     ]
    },
    {
     "data": {
      "image/png": "[encoded data removed]",
      "text/plain": [
       "<Figure size 360x360 with 1 Axes>"
      ]
     },
     "metadata": {
      "needs_background": "light"
     },
     "output_type": "display_data"
    }
   ],
   "source": [
    "# What is the relationship between Gross earnings of each movie and its IMDB Score?\n",
    "sns.lmplot('gross', 'imdb_score', df);"
   ]
  },
  {
   "cell_type": "markdown",
   "metadata": {},
   "source": [
    "# 5. Correlation Analysis"
   ]
  },
  {
   "cell_type": "code",
   "execution_count": 229,
   "metadata": {},
   "outputs": [
    {
     "data": {
      "text/html": [
       "<div>\n",
       "<style scoped>\n",
       "    .dataframe tbody tr th:only-of-type {\n",
       "        vertical-align: middle;\n",
       "    }\n",
       "\n",
       "    .dataframe tbody tr th {\n",
       "        vertical-align: top;\n",
       "    }\n",
       "\n",
       "    .dataframe thead th {\n",
       "        text-align: right;\n",
       "    }\n",
       "</style>\n",
       "<table border=\"1\" class=\"dataframe\">\n",
       "  <thead>\n",
       "    <tr style=\"text-align: right;\">\n",
       "      <th></th>\n",
       "      <th>num_critic_for_reviews</th>\n",
       "      <th>duration</th>\n",
       "      <th>director_facebook_likes</th>\n",
       "      <th>actor_3_facebook_likes</th>\n",
       "      <th>actor_1_facebook_likes</th>\n",
       "      <th>gross</th>\n",
       "      <th>num_voted_users</th>\n",
       "      <th>cast_total_facebook_likes</th>\n",
       "      <th>facenumber_in_poster</th>\n",
       "      <th>num_user_for_reviews</th>\n",
       "      <th>budget</th>\n",
       "      <th>title_year</th>\n",
       "      <th>actor_2_facebook_likes</th>\n",
       "      <th>imdb_score</th>\n",
       "      <th>aspect_ratio</th>\n",
       "      <th>movie_facebook_likes</th>\n",
       "    </tr>\n",
       "  </thead>\n",
       "  <tbody>\n",
       "    <tr>\n",
       "      <th>num_critic_for_reviews</th>\n",
       "      <td>1.000000</td>\n",
       "      <td>0.228631</td>\n",
       "      <td>0.175128</td>\n",
       "      <td>0.252782</td>\n",
       "      <td>0.165986</td>\n",
       "      <td>0.464187</td>\n",
       "      <td>0.592473</td>\n",
       "      <td>0.236533</td>\n",
       "      <td>-0.034365</td>\n",
       "      <td>0.563684</td>\n",
       "      <td>0.104717</td>\n",
       "      <td>0.420202</td>\n",
       "      <td>0.253125</td>\n",
       "      <td>0.347886</td>\n",
       "      <td>0.180230</td>\n",
       "      <td>0.705226</td>\n",
       "    </tr>\n",
       "    <tr>\n",
       "      <th>duration</th>\n",
       "      <td>0.228631</td>\n",
       "      <td>1.000000</td>\n",
       "      <td>0.180644</td>\n",
       "      <td>0.125797</td>\n",
       "      <td>0.083632</td>\n",
       "      <td>0.245726</td>\n",
       "      <td>0.339592</td>\n",
       "      <td>0.120179</td>\n",
       "      <td>0.026919</td>\n",
       "      <td>0.351595</td>\n",
       "      <td>0.068012</td>\n",
       "      <td>-0.130211</td>\n",
       "      <td>0.128935</td>\n",
       "      <td>0.366221</td>\n",
       "      <td>0.153027</td>\n",
       "      <td>0.215303</td>\n",
       "    </tr>\n",
       "    <tr>\n",
       "      <th>director_facebook_likes</th>\n",
       "      <td>0.175128</td>\n",
       "      <td>0.180644</td>\n",
       "      <td>1.000000</td>\n",
       "      <td>0.117405</td>\n",
       "      <td>0.089630</td>\n",
       "      <td>0.138351</td>\n",
       "      <td>0.299624</td>\n",
       "      <td>0.118547</td>\n",
       "      <td>-0.048067</td>\n",
       "      <td>0.217103</td>\n",
       "      <td>0.018167</td>\n",
       "      <td>-0.044656</td>\n",
       "      <td>0.116058</td>\n",
       "      <td>0.192314</td>\n",
       "      <td>0.037528</td>\n",
       "      <td>0.161962</td>\n",
       "    </tr>\n",
       "    <tr>\n",
       "      <th>actor_3_facebook_likes</th>\n",
       "      <td>0.252782</td>\n",
       "      <td>0.125797</td>\n",
       "      <td>0.117405</td>\n",
       "      <td>1.000000</td>\n",
       "      <td>0.252408</td>\n",
       "      <td>0.299864</td>\n",
       "      <td>0.267762</td>\n",
       "      <td>0.489795</td>\n",
       "      <td>0.106189</td>\n",
       "      <td>0.205343</td>\n",
       "      <td>0.039966</td>\n",
       "      <td>0.117475</td>\n",
       "      <td>0.553755</td>\n",
       "      <td>0.065544</td>\n",
       "      <td>0.046356</td>\n",
       "      <td>0.271508</td>\n",
       "    </tr>\n",
       "    <tr>\n",
       "      <th>actor_1_facebook_likes</th>\n",
       "      <td>0.165986</td>\n",
       "      <td>0.083632</td>\n",
       "      <td>0.089630</td>\n",
       "      <td>0.252408</td>\n",
       "      <td>1.000000</td>\n",
       "      <td>0.144010</td>\n",
       "      <td>0.179590</td>\n",
       "      <td>0.944813</td>\n",
       "      <td>0.057387</td>\n",
       "      <td>0.121935</td>\n",
       "      <td>0.016418</td>\n",
       "      <td>0.096194</td>\n",
       "      <td>0.391166</td>\n",
       "      <td>0.093597</td>\n",
       "      <td>0.056946</td>\n",
       "      <td>0.130300</td>\n",
       "    </tr>\n",
       "    <tr>\n",
       "      <th>gross</th>\n",
       "      <td>0.464187</td>\n",
       "      <td>0.245726</td>\n",
       "      <td>0.138351</td>\n",
       "      <td>0.299864</td>\n",
       "      <td>0.144010</td>\n",
       "      <td>1.000000</td>\n",
       "      <td>0.624949</td>\n",
       "      <td>0.235601</td>\n",
       "      <td>-0.032025</td>\n",
       "      <td>0.544674</td>\n",
       "      <td>0.099496</td>\n",
       "      <td>0.054808</td>\n",
       "      <td>0.252842</td>\n",
       "      <td>0.214740</td>\n",
       "      <td>0.063946</td>\n",
       "      <td>0.366933</td>\n",
       "    </tr>\n",
       "    <tr>\n",
       "      <th>num_voted_users</th>\n",
       "      <td>0.592473</td>\n",
       "      <td>0.339592</td>\n",
       "      <td>0.299624</td>\n",
       "      <td>0.267762</td>\n",
       "      <td>0.179590</td>\n",
       "      <td>0.624949</td>\n",
       "      <td>1.000000</td>\n",
       "      <td>0.249119</td>\n",
       "      <td>-0.032209</td>\n",
       "      <td>0.778881</td>\n",
       "      <td>0.065927</td>\n",
       "      <td>0.023687</td>\n",
       "      <td>0.244822</td>\n",
       "      <td>0.482430</td>\n",
       "      <td>0.084626</td>\n",
       "      <td>0.517751</td>\n",
       "    </tr>\n",
       "    <tr>\n",
       "      <th>cast_total_facebook_likes</th>\n",
       "      <td>0.236533</td>\n",
       "      <td>0.120179</td>\n",
       "      <td>0.118547</td>\n",
       "      <td>0.489795</td>\n",
       "      <td>0.944813</td>\n",
       "      <td>0.235601</td>\n",
       "      <td>0.249119</td>\n",
       "      <td>1.000000</td>\n",
       "      <td>0.080687</td>\n",
       "      <td>0.178675</td>\n",
       "      <td>0.028682</td>\n",
       "      <td>0.127045</td>\n",
       "      <td>0.642991</td>\n",
       "      <td>0.106803</td>\n",
       "      <td>0.068952</td>\n",
       "      <td>0.205564</td>\n",
       "    </tr>\n",
       "    <tr>\n",
       "      <th>facenumber_in_poster</th>\n",
       "      <td>-0.034365</td>\n",
       "      <td>0.026919</td>\n",
       "      <td>-0.048067</td>\n",
       "      <td>0.106189</td>\n",
       "      <td>0.057387</td>\n",
       "      <td>-0.032025</td>\n",
       "      <td>-0.032209</td>\n",
       "      <td>0.080687</td>\n",
       "      <td>1.000000</td>\n",
       "      <td>-0.080971</td>\n",
       "      <td>-0.021673</td>\n",
       "      <td>0.070093</td>\n",
       "      <td>0.073098</td>\n",
       "      <td>-0.065493</td>\n",
       "      <td>0.018988</td>\n",
       "      <td>0.015185</td>\n",
       "    </tr>\n",
       "    <tr>\n",
       "      <th>num_user_for_reviews</th>\n",
       "      <td>0.563684</td>\n",
       "      <td>0.351595</td>\n",
       "      <td>0.217103</td>\n",
       "      <td>0.205343</td>\n",
       "      <td>0.121935</td>\n",
       "      <td>0.544674</td>\n",
       "      <td>0.778881</td>\n",
       "      <td>0.178675</td>\n",
       "      <td>-0.080971</td>\n",
       "      <td>1.000000</td>\n",
       "      <td>0.070372</td>\n",
       "      <td>0.019470</td>\n",
       "      <td>0.187016</td>\n",
       "      <td>0.325003</td>\n",
       "      <td>0.098109</td>\n",
       "      <td>0.370465</td>\n",
       "    </tr>\n",
       "    <tr>\n",
       "      <th>budget</th>\n",
       "      <td>0.104717</td>\n",
       "      <td>0.068012</td>\n",
       "      <td>0.018167</td>\n",
       "      <td>0.039966</td>\n",
       "      <td>0.016418</td>\n",
       "      <td>0.099496</td>\n",
       "      <td>0.065927</td>\n",
       "      <td>0.028682</td>\n",
       "      <td>-0.021673</td>\n",
       "      <td>0.070372</td>\n",
       "      <td>1.000000</td>\n",
       "      <td>0.047138</td>\n",
       "      <td>0.035715</td>\n",
       "      <td>0.029190</td>\n",
       "      <td>0.025264</td>\n",
       "      <td>0.052490</td>\n",
       "    </tr>\n",
       "    <tr>\n",
       "      <th>title_year</th>\n",
       "      <td>0.420202</td>\n",
       "      <td>-0.130211</td>\n",
       "      <td>-0.044656</td>\n",
       "      <td>0.117475</td>\n",
       "      <td>0.096194</td>\n",
       "      <td>0.054808</td>\n",
       "      <td>0.023687</td>\n",
       "      <td>0.127045</td>\n",
       "      <td>0.070093</td>\n",
       "      <td>0.019470</td>\n",
       "      <td>0.047138</td>\n",
       "      <td>1.000000</td>\n",
       "      <td>0.122410</td>\n",
       "      <td>-0.134982</td>\n",
       "      <td>0.216614</td>\n",
       "      <td>0.306987</td>\n",
       "    </tr>\n",
       "    <tr>\n",
       "      <th>actor_2_facebook_likes</th>\n",
       "      <td>0.253125</td>\n",
       "      <td>0.128935</td>\n",
       "      <td>0.116058</td>\n",
       "      <td>0.553755</td>\n",
       "      <td>0.391166</td>\n",
       "      <td>0.252842</td>\n",
       "      <td>0.244822</td>\n",
       "      <td>0.642991</td>\n",
       "      <td>0.073098</td>\n",
       "      <td>0.187016</td>\n",
       "      <td>0.035715</td>\n",
       "      <td>0.122410</td>\n",
       "      <td>1.000000</td>\n",
       "      <td>0.102372</td>\n",
       "      <td>0.063951</td>\n",
       "      <td>0.232769</td>\n",
       "    </tr>\n",
       "    <tr>\n",
       "      <th>imdb_score</th>\n",
       "      <td>0.347886</td>\n",
       "      <td>0.366221</td>\n",
       "      <td>0.192314</td>\n",
       "      <td>0.065544</td>\n",
       "      <td>0.093597</td>\n",
       "      <td>0.214740</td>\n",
       "      <td>0.482430</td>\n",
       "      <td>0.106803</td>\n",
       "      <td>-0.065493</td>\n",
       "      <td>0.325003</td>\n",
       "      <td>0.029190</td>\n",
       "      <td>-0.134982</td>\n",
       "      <td>0.102372</td>\n",
       "      <td>1.000000</td>\n",
       "      <td>0.029979</td>\n",
       "      <td>0.281155</td>\n",
       "    </tr>\n",
       "    <tr>\n",
       "      <th>aspect_ratio</th>\n",
       "      <td>0.180230</td>\n",
       "      <td>0.153027</td>\n",
       "      <td>0.037528</td>\n",
       "      <td>0.046356</td>\n",
       "      <td>0.056946</td>\n",
       "      <td>0.063946</td>\n",
       "      <td>0.084626</td>\n",
       "      <td>0.068952</td>\n",
       "      <td>0.018988</td>\n",
       "      <td>0.098109</td>\n",
       "      <td>0.025264</td>\n",
       "      <td>0.216614</td>\n",
       "      <td>0.063951</td>\n",
       "      <td>0.029979</td>\n",
       "      <td>1.000000</td>\n",
       "      <td>0.110118</td>\n",
       "    </tr>\n",
       "    <tr>\n",
       "      <th>movie_facebook_likes</th>\n",
       "      <td>0.705226</td>\n",
       "      <td>0.215303</td>\n",
       "      <td>0.161962</td>\n",
       "      <td>0.271508</td>\n",
       "      <td>0.130300</td>\n",
       "      <td>0.366933</td>\n",
       "      <td>0.517751</td>\n",
       "      <td>0.205564</td>\n",
       "      <td>0.015185</td>\n",
       "      <td>0.370465</td>\n",
       "      <td>0.052490</td>\n",
       "      <td>0.306987</td>\n",
       "      <td>0.232769</td>\n",
       "      <td>0.281155</td>\n",
       "      <td>0.110118</td>\n",
       "      <td>1.000000</td>\n",
       "    </tr>\n",
       "  </tbody>\n",
       "</table>\n",
       "</div>"
      ],
      "text/plain": [
       "                           num_critic_for_reviews  duration  \\\n",
       "num_critic_for_reviews                   1.000000  0.228631   \n",
       "duration                                 0.228631  1.000000   \n",
       "director_facebook_likes                  0.175128  0.180644   \n",
       "actor_3_facebook_likes                   0.252782  0.125797   \n",
       "actor_1_facebook_likes                   0.165986  0.083632   \n",
       "gross                                    0.464187  0.245726   \n",
       "num_voted_users                          0.592473  0.339592   \n",
       "cast_total_facebook_likes                0.236533  0.120179   \n",
       "facenumber_in_poster                    -0.034365  0.026919   \n",
       "num_user_for_reviews                     0.563684  0.351595   \n",
       "budget                                   0.104717  0.068012   \n",
       "title_year                               0.420202 -0.130211   \n",
       "actor_2_facebook_likes                   0.253125  0.128935   \n",
       "imdb_score                               0.347886  0.366221   \n",
       "aspect_ratio                             0.180230  0.153027   \n",
       "movie_facebook_likes                     0.705226  0.215303   \n",
       "\n",
       "                           director_facebook_likes  actor_3_facebook_likes  \\\n",
       "num_critic_for_reviews                    0.175128                0.252782   \n",
       "duration                                  0.180644                0.125797   \n",
       "director_facebook_likes                   1.000000                0.117405   \n",
       "actor_3_facebook_likes                    0.117405                1.000000   \n",
       "actor_1_facebook_likes                    0.089630                0.252408   \n",
       "gross                                     0.138351                0.299864   \n",
       "num_voted_users                           0.299624                0.267762   \n",
       "cast_total_facebook_likes                 0.118547                0.489795   \n",
       "facenumber_in_poster                     -0.048067                0.106189   \n",
       "num_user_for_reviews                      0.217103                0.205343   \n",
       "budget                                    0.018167                0.039966   \n",
       "title_year                               -0.044656                0.117475   \n",
       "actor_2_facebook_likes                    0.116058                0.553755   \n",
       "imdb_score                                0.192314                0.065544   \n",
       "aspect_ratio                              0.037528                0.046356   \n",
       "movie_facebook_likes                      0.161962                0.271508   \n",
       "\n",
       "                           actor_1_facebook_likes     gross  num_voted_users  \\\n",
       "num_critic_for_reviews                   0.165986  0.464187         0.592473   \n",
       "duration                                 0.083632  0.245726         0.339592   \n",
       "director_facebook_likes                  0.089630  0.138351         0.299624   \n",
       "actor_3_facebook_likes                   0.252408  0.299864         0.267762   \n",
       "actor_1_facebook_likes                   1.000000  0.144010         0.179590   \n",
       "gross                                    0.144010  1.000000         0.624949   \n",
       "num_voted_users                          0.179590  0.624949         1.000000   \n",
       "cast_total_facebook_likes                0.944813  0.235601         0.249119   \n",
       "facenumber_in_poster                     0.057387 -0.032025        -0.032209   \n",
       "num_user_for_reviews                     0.121935  0.544674         0.778881   \n",
       "budget                                   0.016418  0.099496         0.065927   \n",
       "title_year                               0.096194  0.054808         0.023687   \n",
       "actor_2_facebook_likes                   0.391166  0.252842         0.244822   \n",
       "imdb_score                               0.093597  0.214740         0.482430   \n",
       "aspect_ratio                             0.056946  0.063946         0.084626   \n",
       "movie_facebook_likes                     0.130300  0.366933         0.517751   \n",
       "\n",
       "                           cast_total_facebook_likes  facenumber_in_poster  \\\n",
       "num_critic_for_reviews                      0.236533             -0.034365   \n",
       "duration                                    0.120179              0.026919   \n",
       "director_facebook_likes                     0.118547             -0.048067   \n",
       "actor_3_facebook_likes                      0.489795              0.106189   \n",
       "actor_1_facebook_likes                      0.944813              0.057387   \n",
       "gross                                       0.235601             -0.032025   \n",
       "num_voted_users                             0.249119             -0.032209   \n",
       "cast_total_facebook_likes                   1.000000              0.080687   \n",
       "facenumber_in_poster                        0.080687              1.000000   \n",
       "num_user_for_reviews                        0.178675             -0.080971   \n",
       "budget                                      0.028682             -0.021673   \n",
       "title_year                                  0.127045              0.070093   \n",
       "actor_2_facebook_likes                      0.642991              0.073098   \n",
       "imdb_score                                  0.106803             -0.065493   \n",
       "aspect_ratio                                0.068952              0.018988   \n",
       "movie_facebook_likes                        0.205564              0.015185   \n",
       "\n",
       "                           num_user_for_reviews    budget  title_year  \\\n",
       "num_critic_for_reviews                 0.563684  0.104717    0.420202   \n",
       "duration                               0.351595  0.068012   -0.130211   \n",
       "director_facebook_likes                0.217103  0.018167   -0.044656   \n",
       "actor_3_facebook_likes                 0.205343  0.039966    0.117475   \n",
       "actor_1_facebook_likes                 0.121935  0.016418    0.096194   \n",
       "gross                                  0.544674  0.099496    0.054808   \n",
       "num_voted_users                        0.778881  0.065927    0.023687   \n",
       "cast_total_facebook_likes              0.178675  0.028682    0.127045   \n",
       "facenumber_in_poster                  -0.080971 -0.021673    0.070093   \n",
       "num_user_for_reviews                   1.000000  0.070372    0.019470   \n",
       "budget                                 0.070372  1.000000    0.047138   \n",
       "title_year                             0.019470  0.047138    1.000000   \n",
       "actor_2_facebook_likes                 0.187016  0.035715    0.122410   \n",
       "imdb_score                             0.325003  0.029190   -0.134982   \n",
       "aspect_ratio                           0.098109  0.025264    0.216614   \n",
       "movie_facebook_likes                   0.370465  0.052490    0.306987   \n",
       "\n",
       "                           actor_2_facebook_likes  imdb_score  aspect_ratio  \\\n",
       "num_critic_for_reviews                   0.253125    0.347886      0.180230   \n",
       "duration                                 0.128935    0.366221      0.153027   \n",
       "director_facebook_likes                  0.116058    0.192314      0.037528   \n",
       "actor_3_facebook_likes                   0.553755    0.065544      0.046356   \n",
       "actor_1_facebook_likes                   0.391166    0.093597      0.056946   \n",
       "gross                                    0.252842    0.214740      0.063946   \n",
       "num_voted_users                          0.244822    0.482430      0.084626   \n",
       "cast_total_facebook_likes                0.642991    0.106803      0.068952   \n",
       "facenumber_in_poster                     0.073098   -0.065493      0.018988   \n",
       "num_user_for_reviews                     0.187016    0.325003      0.098109   \n",
       "budget                                   0.035715    0.029190      0.025264   \n",
       "title_year                               0.122410   -0.134982      0.216614   \n",
       "actor_2_facebook_likes                   1.000000    0.102372      0.063951   \n",
       "imdb_score                               0.102372    1.000000      0.029979   \n",
       "aspect_ratio                             0.063951    0.029979      1.000000   \n",
       "movie_facebook_likes                     0.232769    0.281155      0.110118   \n",
       "\n",
       "                           movie_facebook_likes  \n",
       "num_critic_for_reviews                 0.705226  \n",
       "duration                               0.215303  \n",
       "director_facebook_likes                0.161962  \n",
       "actor_3_facebook_likes                 0.271508  \n",
       "actor_1_facebook_likes                 0.130300  \n",
       "gross                                  0.366933  \n",
       "num_voted_users                        0.517751  \n",
       "cast_total_facebook_likes              0.205564  \n",
       "facenumber_in_poster                   0.015185  \n",
       "num_user_for_reviews                   0.370465  \n",
       "budget                                 0.052490  \n",
       "title_year                             0.306987  \n",
       "actor_2_facebook_likes                 0.232769  \n",
       "imdb_score                             0.281155  \n",
       "aspect_ratio                           0.110118  \n",
       "movie_facebook_likes                   1.000000  "
      ]
     },
     "execution_count": 229,
     "metadata": {},
     "output_type": "execute_result"
    }
   ],
   "source": [
    "# Lets look at the correlation between these variables\n",
    "df.corr()"
   ]
  },
  {
   "cell_type": "code",
   "execution_count": 230,
   "metadata": {},
   "outputs": [
    {
     "data": {
      "text/plain": [
       "<matplotlib.axes._subplots.AxesSubplot at 0x1b3026cc908>"
      ]
     },
     "execution_count": 230,
     "metadata": {},
     "output_type": "execute_result"
    },
    {
     "data": {
      "image/png": "[encoded data removed]",
      "text/plain": [
       "<Figure size 864x864 with 2 Axes>"
      ]
     },
     "metadata": {
      "needs_background": "light"
     },
     "output_type": "display_data"
    }
   ],
   "source": [
    "# Lets visualize it to get a better picture of these relationships\n",
    "plt.figure(figsize=(12,12))\n",
    "sns.heatmap(df.corr(), annot=True)"
   ]
  },
  {
   "cell_type": "markdown",
   "metadata": {},
   "source": [
    "### Based on the correlation analysis and the heatmap provided it seems like there aren't any variables that are very highly correlated to iMDB_score. The variables that are highest in correlation are num_vated_users, duration, and num_critic_for_review.\n",
    "### Some of the variables that are highly correlated to each other are; total cast facebook likes and individual actor facebook likes, the movie's facebook likes and gross earnings.\n",
    "### Surprisingly, overall Budget was not highly correlated with any of the variables."
   ]
  },
  {
   "cell_type": "markdown",
   "metadata": {},
   "source": [
    "# 6. Regression"
   ]
  },
  {
   "cell_type": "markdown",
   "metadata": {},
   "source": [
    "## Model Development"
   ]
  },
  {
   "cell_type": "code",
   "execution_count": 231,
   "metadata": {},
   "outputs": [
    {
     "data": {
      "text/html": [
       "<div>\n",
       "<style scoped>\n",
       "    .dataframe tbody tr th:only-of-type {\n",
       "        vertical-align: middle;\n",
       "    }\n",
       "\n",
       "    .dataframe tbody tr th {\n",
       "        vertical-align: top;\n",
       "    }\n",
       "\n",
       "    .dataframe thead th {\n",
       "        text-align: right;\n",
       "    }\n",
       "</style>\n",
       "<table border=\"1\" class=\"dataframe\">\n",
       "  <thead>\n",
       "    <tr style=\"text-align: right;\">\n",
       "      <th></th>\n",
       "      <th>color</th>\n",
       "      <th>director_name</th>\n",
       "      <th>num_critic_for_reviews</th>\n",
       "      <th>duration</th>\n",
       "      <th>director_facebook_likes</th>\n",
       "      <th>actor_2_name</th>\n",
       "      <th>gross</th>\n",
       "      <th>genres</th>\n",
       "      <th>actor_1_name</th>\n",
       "      <th>movie_title</th>\n",
       "      <th>...</th>\n",
       "      <th>plot_keywords</th>\n",
       "      <th>movie_imdb_link</th>\n",
       "      <th>num_user_for_reviews</th>\n",
       "      <th>language</th>\n",
       "      <th>country</th>\n",
       "      <th>content_rating</th>\n",
       "      <th>budget</th>\n",
       "      <th>title_year</th>\n",
       "      <th>imdb_score</th>\n",
       "      <th>movie_facebook_likes</th>\n",
       "    </tr>\n",
       "  </thead>\n",
       "  <tbody>\n",
       "    <tr>\n",
       "      <th>0</th>\n",
       "      <td>Color</td>\n",
       "      <td>James Cameron</td>\n",
       "      <td>723.0</td>\n",
       "      <td>178.0</td>\n",
       "      <td>0.0</td>\n",
       "      <td>Joel David Moore</td>\n",
       "      <td>760505847.0</td>\n",
       "      <td>Action|Adventure|Fantasy|Sci-Fi</td>\n",
       "      <td>CCH Pounder</td>\n",
       "      <td>Avatar</td>\n",
       "      <td>...</td>\n",
       "      <td>avatar|future|marine|native|paraplegic</td>\n",
       "      <td>http://www.imdb.com/title/tt0499549/?ref_=fn_t...</td>\n",
       "      <td>3054.0</td>\n",
       "      <td>English</td>\n",
       "      <td>USA</td>\n",
       "      <td>PG-13</td>\n",
       "      <td>237000000.0</td>\n",
       "      <td>2009.0</td>\n",
       "      <td>7.9</td>\n",
       "      <td>33000</td>\n",
       "    </tr>\n",
       "    <tr>\n",
       "      <th>1</th>\n",
       "      <td>Color</td>\n",
       "      <td>Gore Verbinski</td>\n",
       "      <td>302.0</td>\n",
       "      <td>169.0</td>\n",
       "      <td>563.0</td>\n",
       "      <td>Orlando Bloom</td>\n",
       "      <td>309404152.0</td>\n",
       "      <td>Action|Adventure|Fantasy</td>\n",
       "      <td>Johnny Depp</td>\n",
       "      <td>Pirates of the Caribbean: At World's End</td>\n",
       "      <td>...</td>\n",
       "      <td>goddess|marriage ceremony|marriage proposal|pi...</td>\n",
       "      <td>http://www.imdb.com/title/tt0449088/?ref_=fn_t...</td>\n",
       "      <td>1238.0</td>\n",
       "      <td>English</td>\n",
       "      <td>USA</td>\n",
       "      <td>PG-13</td>\n",
       "      <td>300000000.0</td>\n",
       "      <td>2007.0</td>\n",
       "      <td>7.1</td>\n",
       "      <td>0</td>\n",
       "    </tr>\n",
       "  </tbody>\n",
       "</table>\n",
       "<p>2 rows × 23 columns</p>\n",
       "</div>"
      ],
      "text/plain": [
       "   color   director_name  num_critic_for_reviews  duration  \\\n",
       "0  Color   James Cameron                   723.0     178.0   \n",
       "1  Color  Gore Verbinski                   302.0     169.0   \n",
       "\n",
       "   director_facebook_likes      actor_2_name        gross  \\\n",
       "0                      0.0  Joel David Moore  760505847.0   \n",
       "1                    563.0     Orlando Bloom  309404152.0   \n",
       "\n",
       "                            genres actor_1_name  \\\n",
       "0  Action|Adventure|Fantasy|Sci-Fi  CCH Pounder   \n",
       "1         Action|Adventure|Fantasy  Johnny Depp   \n",
       "\n",
       "                                 movie_title          ...           \\\n",
       "0                                    Avatar           ...            \n",
       "1  Pirates of the Caribbean: At World's End           ...            \n",
       "\n",
       "                                       plot_keywords  \\\n",
       "0             avatar|future|marine|native|paraplegic   \n",
       "1  goddess|marriage ceremony|marriage proposal|pi...   \n",
       "\n",
       "                                     movie_imdb_link num_user_for_reviews  \\\n",
       "0  http://www.imdb.com/title/tt0499549/?ref_=fn_t...               3054.0   \n",
       "1  http://www.imdb.com/title/tt0449088/?ref_=fn_t...               1238.0   \n",
       "\n",
       "  language country  content_rating       budget title_year imdb_score  \\\n",
       "0  English     USA           PG-13  237000000.0     2009.0        7.9   \n",
       "1  English     USA           PG-13  300000000.0     2007.0        7.1   \n",
       "\n",
       "   movie_facebook_likes  \n",
       "0                 33000  \n",
       "1                     0  \n",
       "\n",
       "[2 rows x 23 columns]"
      ]
     },
     "execution_count": 231,
     "metadata": {},
     "output_type": "execute_result"
    }
   ],
   "source": [
    "# Going to go ahead and drop those variables that were found to be useless based on previous correlation analysis\n",
    "df = df.drop(['facenumber_in_poster', 'aspect_ratio', 'actor_3_facebook_likes', 'actor_1_facebook_likes', 'actor_2_facebook_likes'], axis=1)\n",
    "df.head(2)"
   ]
  },
  {
   "cell_type": "code",
   "execution_count": 232,
   "metadata": {},
   "outputs": [
    {
     "name": "stdout",
     "output_type": "stream",
     "text": [
      "<class 'pandas.core.frame.DataFrame'>\n",
      "Int64Index: 3756 entries, 0 to 5042\n",
      "Data columns (total 23 columns):\n",
      "color                        3756 non-null object\n",
      "director_name                3756 non-null object\n",
      "num_critic_for_reviews       3756 non-null float64\n",
      "duration                     3756 non-null float64\n",
      "director_facebook_likes      3756 non-null float64\n",
      "actor_2_name                 3756 non-null object\n",
      "gross                        3756 non-null float64\n",
      "genres                       3756 non-null object\n",
      "actor_1_name                 3756 non-null object\n",
      "movie_title                  3756 non-null object\n",
      "num_voted_users              3756 non-null int64\n",
      "cast_total_facebook_likes    3756 non-null int64\n",
      "actor_3_name                 3756 non-null object\n",
      "plot_keywords                3756 non-null object\n",
      "movie_imdb_link              3756 non-null object\n",
      "num_user_for_reviews         3756 non-null float64\n",
      "language                     3756 non-null object\n",
      "country                      3756 non-null object\n",
      "content_rating               3756 non-null object\n",
      "budget                       3756 non-null float64\n",
      "title_year                   3756 non-null float64\n",
      "imdb_score                   3756 non-null float64\n",
      "movie_facebook_likes         3756 non-null int64\n",
      "dtypes: float64(8), int64(3), object(12)\n",
      "memory usage: 704.2+ KB\n"
     ]
    }
   ],
   "source": [
    "# A look at what is left for us to play with\n",
    "df.info()"
   ]
  },
  {
   "cell_type": "code",
   "execution_count": 233,
   "metadata": {},
   "outputs": [],
   "source": [
    "# Setting up variables, forgetting about categorical variables\n",
    "y = df['imdb_score'] \n",
    "X = df[['num_critic_for_reviews', 'duration', 'director_facebook_likes', 'gross', 'num_voted_users', 'cast_total_facebook_likes', 'num_user_for_reviews', 'budget', 'title_year', 'movie_facebook_likes']]"
   ]
  },
  {
   "cell_type": "code",
   "execution_count": 234,
   "metadata": {},
   "outputs": [],
   "source": [
    "# Splitting data into Test and Training data\n",
    "X_train, X_test, y_train, y_test = train_test_split(X, y, test_size=0.3, random_state=42)"
   ]
  },
  {
   "cell_type": "code",
   "execution_count": 235,
   "metadata": {},
   "outputs": [
    {
     "data": {
      "text/plain": [
       "3756"
      ]
     },
     "execution_count": 235,
     "metadata": {},
     "output_type": "execute_result"
    }
   ],
   "source": [
    "# Confirming length of data\n",
    "len(df)"
   ]
  },
  {
   "cell_type": "code",
   "execution_count": 236,
   "metadata": {},
   "outputs": [
    {
     "data": {
      "text/plain": [
       "(2629, 1127)"
      ]
     },
     "execution_count": 236,
     "metadata": {},
     "output_type": "execute_result"
    }
   ],
   "source": [
    "# Making sure proportions are correct\n",
    "len(X_train), len(X_test)"
   ]
  },
  {
   "cell_type": "code",
   "execution_count": 237,
   "metadata": {},
   "outputs": [],
   "source": [
    "# build a multiple regression model below\n",
    "\n",
    "regmodel1 = lm.LinearRegression()\n",
    "regmodel1.fit(X, y)   \n",
    "regmodel1_y = regmodel1.predict(X)"
   ]
  },
  {
   "cell_type": "code",
   "execution_count": 238,
   "metadata": {},
   "outputs": [
    {
     "name": "stdout",
     "output_type": "stream",
     "text": [
      "Coefficients:  [ 2.76558561e-03  1.00800926e-02  3.42421744e-06 -2.39729428e-09\n",
      "  3.74463989e-06 -5.81460425e-07 -6.18991464e-04 -3.98748492e-11\n",
      " -2.38083252e-02 -2.71343780e-06]\n",
      "y-intercept  52.54800116420796\n"
     ]
    }
   ],
   "source": [
    "# How would this equation look with its coefficients and intercept?\n",
    "print('Coefficients: ', regmodel1.coef_)\n",
    "print(\"y-intercept \", regmodel1.intercept_)"
   ]
  },
  {
   "cell_type": "code",
   "execution_count": 239,
   "metadata": {},
   "outputs": [
    {
     "data": {
      "text/html": [
       "<div>\n",
       "<style scoped>\n",
       "    .dataframe tbody tr th:only-of-type {\n",
       "        vertical-align: middle;\n",
       "    }\n",
       "\n",
       "    .dataframe tbody tr th {\n",
       "        vertical-align: top;\n",
       "    }\n",
       "\n",
       "    .dataframe thead th {\n",
       "        text-align: right;\n",
       "    }\n",
       "</style>\n",
       "<table border=\"1\" class=\"dataframe\">\n",
       "  <thead>\n",
       "    <tr style=\"text-align: right;\">\n",
       "      <th></th>\n",
       "      <th>0</th>\n",
       "      <th>1</th>\n",
       "    </tr>\n",
       "  </thead>\n",
       "  <tbody>\n",
       "    <tr>\n",
       "      <th>0</th>\n",
       "      <td>num_critic_for_reviews</td>\n",
       "      <td>2.765586e-03</td>\n",
       "    </tr>\n",
       "    <tr>\n",
       "      <th>1</th>\n",
       "      <td>duration</td>\n",
       "      <td>1.008009e-02</td>\n",
       "    </tr>\n",
       "    <tr>\n",
       "      <th>2</th>\n",
       "      <td>director_facebook_likes</td>\n",
       "      <td>3.424217e-06</td>\n",
       "    </tr>\n",
       "    <tr>\n",
       "      <th>3</th>\n",
       "      <td>gross</td>\n",
       "      <td>-2.397294e-09</td>\n",
       "    </tr>\n",
       "    <tr>\n",
       "      <th>4</th>\n",
       "      <td>num_voted_users</td>\n",
       "      <td>3.744640e-06</td>\n",
       "    </tr>\n",
       "    <tr>\n",
       "      <th>5</th>\n",
       "      <td>cast_total_facebook_likes</td>\n",
       "      <td>-5.814604e-07</td>\n",
       "    </tr>\n",
       "    <tr>\n",
       "      <th>6</th>\n",
       "      <td>num_user_for_reviews</td>\n",
       "      <td>-6.189915e-04</td>\n",
       "    </tr>\n",
       "    <tr>\n",
       "      <th>7</th>\n",
       "      <td>budget</td>\n",
       "      <td>-3.987485e-11</td>\n",
       "    </tr>\n",
       "    <tr>\n",
       "      <th>8</th>\n",
       "      <td>title_year</td>\n",
       "      <td>-2.380833e-02</td>\n",
       "    </tr>\n",
       "    <tr>\n",
       "      <th>9</th>\n",
       "      <td>movie_facebook_likes</td>\n",
       "      <td>-2.713438e-06</td>\n",
       "    </tr>\n",
       "  </tbody>\n",
       "</table>\n",
       "</div>"
      ],
      "text/plain": [
       "                           0             1\n",
       "0     num_critic_for_reviews  2.765586e-03\n",
       "1                   duration  1.008009e-02\n",
       "2    director_facebook_likes  3.424217e-06\n",
       "3                      gross -2.397294e-09\n",
       "4            num_voted_users  3.744640e-06\n",
       "5  cast_total_facebook_likes -5.814604e-07\n",
       "6       num_user_for_reviews -6.189915e-04\n",
       "7                     budget -3.987485e-11\n",
       "8                 title_year -2.380833e-02\n",
       "9       movie_facebook_likes -2.713438e-06"
      ]
     },
     "execution_count": 239,
     "metadata": {},
     "output_type": "execute_result"
    }
   ],
   "source": [
    "pd.DataFrame(list(zip(X.columns, np.transpose(regmodel1.coef_))))"
   ]
  },
  {
   "cell_type": "code",
   "execution_count": 240,
   "metadata": {},
   "outputs": [
    {
     "data": {
      "text/plain": [
       "[('num_critic_for_reviews', '0.003'),\n",
       " ('duration', '0.010'),\n",
       " ('director_facebook_likes', '0.000'),\n",
       " ('gross', '-0.000'),\n",
       " ('num_voted_users', '0.000'),\n",
       " ('cast_total_facebook_likes', '-0.000'),\n",
       " ('num_user_for_reviews', '-0.001'),\n",
       " ('budget', '-0.000'),\n",
       " ('title_year', '-0.024'),\n",
       " ('movie_facebook_likes', '-0.000')]"
      ]
     },
     "execution_count": 240,
     "metadata": {},
     "output_type": "execute_result"
    }
   ],
   "source": [
    "coef = [\"%.3f\" % i for i in regmodel1.coef_]\n",
    "xcolumns = [ i for i in X.columns ]\n",
    "list(zip(xcolumns, coef))"
   ]
  },
  {
   "cell_type": "code",
   "execution_count": 241,
   "metadata": {},
   "outputs": [
    {
     "name": "stdout",
     "output_type": "stream",
     "text": [
      "mean square error:  0.7203477116771433\n",
      "variance or r-squared:  0.3541568628220232\n"
     ]
    }
   ],
   "source": [
    "# Just how affective is this Regression Analysis\n",
    "print(\"mean square error: \", mean_squared_error(y, regmodel1_y))\n",
    "print(\"variance or r-squared: \", explained_variance_score(y, regmodel1_y))"
   ]
  },
  {
   "cell_type": "markdown",
   "metadata": {},
   "source": [
    "### As you can see from the regression analysis performed above, the quantitative variables only account for ~35% of the variation in the IMDB Score. This is not a very good R-Squared value confirming what i found in the correlation analysis. Some of these data points just were not important enough in the prediction of the IMDB Score and in turn the overall success of the movie."
   ]
  },
  {
   "cell_type": "markdown",
   "metadata": {},
   "source": [
    "### Now I will be more selective with the variables chosen in the regression analysis. I will use those data points that were most correlated to 'imdb_score'"
   ]
  },
  {
   "cell_type": "code",
   "execution_count": 242,
   "metadata": {},
   "outputs": [],
   "source": [
    "# Pick the most correlated variables at first glance\n",
    "y = df['imdb_score'] \n",
    "X = df[['num_voted_users', 'duration', 'num_critic_for_reviews']]"
   ]
  },
  {
   "cell_type": "code",
   "execution_count": 243,
   "metadata": {},
   "outputs": [],
   "source": [
    "# Splitting new variables data\n",
    "X_train, X_test, y_train, y_test = train_test_split(X, y, test_size=0.3, random_state=42)"
   ]
  },
  {
   "cell_type": "code",
   "execution_count": 244,
   "metadata": {},
   "outputs": [],
   "source": [
    "# New regression model build\n",
    "regmodel2 = lm.LinearRegression()\n",
    "regmodel2.fit(X, y)   \n",
    "regmodel2_y = regmodel2.predict(X)"
   ]
  },
  {
   "cell_type": "code",
   "execution_count": 245,
   "metadata": {},
   "outputs": [
    {
     "name": "stdout",
     "output_type": "stream",
     "text": [
      "Coefficients:  [2.46390198e-06 1.05456094e-02 7.36400086e-04]\n",
      "y-intercept  4.918540436769661\n"
     ]
    }
   ],
   "source": [
    "print('Coefficients: ', regmodel2.coef_)\n",
    "print(\"y-intercept \", regmodel2.intercept_)"
   ]
  },
  {
   "cell_type": "code",
   "execution_count": 246,
   "metadata": {},
   "outputs": [
    {
     "data": {
      "text/html": [
       "<div>\n",
       "<style scoped>\n",
       "    .dataframe tbody tr th:only-of-type {\n",
       "        vertical-align: middle;\n",
       "    }\n",
       "\n",
       "    .dataframe tbody tr th {\n",
       "        vertical-align: top;\n",
       "    }\n",
       "\n",
       "    .dataframe thead th {\n",
       "        text-align: right;\n",
       "    }\n",
       "</style>\n",
       "<table border=\"1\" class=\"dataframe\">\n",
       "  <thead>\n",
       "    <tr style=\"text-align: right;\">\n",
       "      <th></th>\n",
       "      <th>0</th>\n",
       "      <th>1</th>\n",
       "    </tr>\n",
       "  </thead>\n",
       "  <tbody>\n",
       "    <tr>\n",
       "      <th>0</th>\n",
       "      <td>num_voted_users</td>\n",
       "      <td>0.000002</td>\n",
       "    </tr>\n",
       "    <tr>\n",
       "      <th>1</th>\n",
       "      <td>duration</td>\n",
       "      <td>0.010546</td>\n",
       "    </tr>\n",
       "    <tr>\n",
       "      <th>2</th>\n",
       "      <td>num_critic_for_reviews</td>\n",
       "      <td>0.000736</td>\n",
       "    </tr>\n",
       "  </tbody>\n",
       "</table>\n",
       "</div>"
      ],
      "text/plain": [
       "                        0         1\n",
       "0         num_voted_users  0.000002\n",
       "1                duration  0.010546\n",
       "2  num_critic_for_reviews  0.000736"
      ]
     },
     "execution_count": 246,
     "metadata": {},
     "output_type": "execute_result"
    }
   ],
   "source": [
    "pd.DataFrame(list(zip(X.columns, np.transpose(regmodel2.coef_))))"
   ]
  },
  {
   "cell_type": "code",
   "execution_count": 247,
   "metadata": {},
   "outputs": [
    {
     "data": {
      "text/plain": [
       "[('num_voted_users', '0.003'),\n",
       " ('duration', '0.010'),\n",
       " ('num_critic_for_reviews', '0.000')]"
      ]
     },
     "execution_count": 247,
     "metadata": {},
     "output_type": "execute_result"
    }
   ],
   "source": [
    "coef = [\"%.3f\" % i for i in regmodel1.coef_]\n",
    "xcolumns = [ i for i in X.columns ]\n",
    "list(zip(xcolumns, coef))"
   ]
  },
  {
   "cell_type": "code",
   "execution_count": 248,
   "metadata": {},
   "outputs": [
    {
     "name": "stdout",
     "output_type": "stream",
     "text": [
      "mean square error:  0.7987745639710211\n",
      "variance or r-squared:  0.28384159215010973\n"
     ]
    }
   ],
   "source": [
    "# Just how affective is this Regression Analysis\n",
    "print(\"mean square error: \", mean_squared_error(y, regmodel2_y))\n",
    "print(\"variance or r-squared: \", explained_variance_score(y, regmodel2_y))"
   ]
  },
  {
   "cell_type": "markdown",
   "metadata": {},
   "source": [
    "### By selecting the most important vartiables according to the correlation analysis I was able to account for .28 of the .35 R-Squared valed. That is 66% of the previously found R-Squared value only from three of the data points."
   ]
  },
  {
   "cell_type": "markdown",
   "metadata": {},
   "source": [
    "# 7. Classification"
   ]
  },
  {
   "cell_type": "code",
   "execution_count": 249,
   "metadata": {},
   "outputs": [],
   "source": [
    "# Creating new Categorical value using bins to describe how good the Movie is based on IMDB Score\n",
    "df['imdb_bins'] = pd.qcut(df['imdb_score'].values, 4).codes"
   ]
  },
  {
   "cell_type": "code",
   "execution_count": 250,
   "metadata": {},
   "outputs": [
    {
     "data": {
      "text/html": [
       "<div>\n",
       "<style scoped>\n",
       "    .dataframe tbody tr th:only-of-type {\n",
       "        vertical-align: middle;\n",
       "    }\n",
       "\n",
       "    .dataframe tbody tr th {\n",
       "        vertical-align: top;\n",
       "    }\n",
       "\n",
       "    .dataframe thead th {\n",
       "        text-align: right;\n",
       "    }\n",
       "</style>\n",
       "<table border=\"1\" class=\"dataframe\">\n",
       "  <thead>\n",
       "    <tr style=\"text-align: right;\">\n",
       "      <th></th>\n",
       "      <th>color</th>\n",
       "      <th>director_name</th>\n",
       "      <th>num_critic_for_reviews</th>\n",
       "      <th>duration</th>\n",
       "      <th>director_facebook_likes</th>\n",
       "      <th>actor_2_name</th>\n",
       "      <th>gross</th>\n",
       "      <th>genres</th>\n",
       "      <th>actor_1_name</th>\n",
       "      <th>movie_title</th>\n",
       "      <th>...</th>\n",
       "      <th>movie_imdb_link</th>\n",
       "      <th>num_user_for_reviews</th>\n",
       "      <th>language</th>\n",
       "      <th>country</th>\n",
       "      <th>content_rating</th>\n",
       "      <th>budget</th>\n",
       "      <th>title_year</th>\n",
       "      <th>imdb_score</th>\n",
       "      <th>movie_facebook_likes</th>\n",
       "      <th>imdb_bins</th>\n",
       "    </tr>\n",
       "  </thead>\n",
       "  <tbody>\n",
       "    <tr>\n",
       "      <th>0</th>\n",
       "      <td>Color</td>\n",
       "      <td>James Cameron</td>\n",
       "      <td>723.0</td>\n",
       "      <td>178.0</td>\n",
       "      <td>0.0</td>\n",
       "      <td>Joel David Moore</td>\n",
       "      <td>760505847.0</td>\n",
       "      <td>Action|Adventure|Fantasy|Sci-Fi</td>\n",
       "      <td>CCH Pounder</td>\n",
       "      <td>Avatar</td>\n",
       "      <td>...</td>\n",
       "      <td>http://www.imdb.com/title/tt0499549/?ref_=fn_t...</td>\n",
       "      <td>3054.0</td>\n",
       "      <td>English</td>\n",
       "      <td>USA</td>\n",
       "      <td>PG-13</td>\n",
       "      <td>237000000.0</td>\n",
       "      <td>2009.0</td>\n",
       "      <td>7.9</td>\n",
       "      <td>33000</td>\n",
       "      <td>3</td>\n",
       "    </tr>\n",
       "    <tr>\n",
       "      <th>1</th>\n",
       "      <td>Color</td>\n",
       "      <td>Gore Verbinski</td>\n",
       "      <td>302.0</td>\n",
       "      <td>169.0</td>\n",
       "      <td>563.0</td>\n",
       "      <td>Orlando Bloom</td>\n",
       "      <td>309404152.0</td>\n",
       "      <td>Action|Adventure|Fantasy</td>\n",
       "      <td>Johnny Depp</td>\n",
       "      <td>Pirates of the Caribbean: At World's End</td>\n",
       "      <td>...</td>\n",
       "      <td>http://www.imdb.com/title/tt0449088/?ref_=fn_t...</td>\n",
       "      <td>1238.0</td>\n",
       "      <td>English</td>\n",
       "      <td>USA</td>\n",
       "      <td>PG-13</td>\n",
       "      <td>300000000.0</td>\n",
       "      <td>2007.0</td>\n",
       "      <td>7.1</td>\n",
       "      <td>0</td>\n",
       "      <td>2</td>\n",
       "    </tr>\n",
       "  </tbody>\n",
       "</table>\n",
       "<p>2 rows × 24 columns</p>\n",
       "</div>"
      ],
      "text/plain": [
       "   color   director_name  num_critic_for_reviews  duration  \\\n",
       "0  Color   James Cameron                   723.0     178.0   \n",
       "1  Color  Gore Verbinski                   302.0     169.0   \n",
       "\n",
       "   director_facebook_likes      actor_2_name        gross  \\\n",
       "0                      0.0  Joel David Moore  760505847.0   \n",
       "1                    563.0     Orlando Bloom  309404152.0   \n",
       "\n",
       "                            genres actor_1_name  \\\n",
       "0  Action|Adventure|Fantasy|Sci-Fi  CCH Pounder   \n",
       "1         Action|Adventure|Fantasy  Johnny Depp   \n",
       "\n",
       "                                 movie_title    ...      \\\n",
       "0                                    Avatar     ...       \n",
       "1  Pirates of the Caribbean: At World's End     ...       \n",
       "\n",
       "                                     movie_imdb_link  num_user_for_reviews  \\\n",
       "0  http://www.imdb.com/title/tt0499549/?ref_=fn_t...                3054.0   \n",
       "1  http://www.imdb.com/title/tt0449088/?ref_=fn_t...                1238.0   \n",
       "\n",
       "  language country content_rating       budget title_year imdb_score  \\\n",
       "0  English     USA          PG-13  237000000.0     2009.0        7.9   \n",
       "1  English     USA          PG-13  300000000.0     2007.0        7.1   \n",
       "\n",
       "  movie_facebook_likes  imdb_bins  \n",
       "0                33000          3  \n",
       "1                    0          2  \n",
       "\n",
       "[2 rows x 24 columns]"
      ]
     },
     "execution_count": 250,
     "metadata": {},
     "output_type": "execute_result"
    }
   ],
   "source": [
    "df.head(2)"
   ]
  },
  {
   "cell_type": "code",
   "execution_count": 251,
   "metadata": {},
   "outputs": [],
   "source": [
    "# declare X variables and y variable\n",
    "\n",
    "y = df['imdb_bins']\n",
    "X = df[['num_critic_for_reviews', 'duration', 'director_facebook_likes', 'gross', 'num_voted_users', 'cast_total_facebook_likes', 'num_user_for_reviews', 'budget', 'title_year', 'movie_facebook_likes']]"
   ]
  },
  {
   "cell_type": "markdown",
   "metadata": {},
   "source": [
    "## DecisionTreeClassifier"
   ]
  },
  {
   "cell_type": "code",
   "execution_count": 252,
   "metadata": {},
   "outputs": [
    {
     "data": {
      "text/plain": [
       "DecisionTreeClassifier(class_weight=None, criterion='gini', max_depth=None,\n",
       "            max_features=None, max_leaf_nodes=None,\n",
       "            min_impurity_decrease=0.0, min_impurity_split=None,\n",
       "            min_samples_leaf=1, min_samples_split=2,\n",
       "            min_weight_fraction_leaf=0.0, presort=False, random_state=None,\n",
       "            splitter='best')"
      ]
     },
     "execution_count": 252,
     "metadata": {},
     "output_type": "execute_result"
    }
   ],
   "source": [
    "# split validation\n",
    "X_train, X_test, y_train, y_test = train_test_split(X, y, test_size=0.3, random_state=42)\n",
    "\n",
    "# Initialize DecisionTreeClassifier() ... name your decision model \"dt\"\n",
    "dt = DecisionTreeClassifier()\n",
    "\n",
    "# Train a decision tree model\n",
    "dt.fit(X_train, y_train)"
   ]
  },
  {
   "cell_type": "code",
   "execution_count": 253,
   "metadata": {},
   "outputs": [
    {
     "name": "stdout",
     "output_type": "stream",
     "text": [
      "0.44809228039041704\n",
      "--------------------------------------------------------\n",
      "[[163  90  39  11]\n",
      " [ 70 103  65  45]\n",
      " [ 47  72  91  65]\n",
      " [ 15  45  58 148]]\n",
      "--------------------------------------------------------\n",
      "              precision    recall  f1-score   support\n",
      "\n",
      "           0       0.55      0.54      0.55       303\n",
      "           1       0.33      0.36      0.35       283\n",
      "           2       0.36      0.33      0.34       275\n",
      "           3       0.55      0.56      0.55       266\n",
      "\n",
      "   micro avg       0.45      0.45      0.45      1127\n",
      "   macro avg       0.45      0.45      0.45      1127\n",
      "weighted avg       0.45      0.45      0.45      1127\n",
      "\n",
      "--------------------------------------------------------\n"
     ]
    }
   ],
   "source": [
    "#Model evaluation\n",
    "# http://scikit-learn.org/stable/modules/model_evaluation.html\n",
    "print(metrics.accuracy_score(y_test, dt.predict(X_test)))\n",
    "print(\"--------------------------------------------------------\")\n",
    "print(metrics.confusion_matrix(y_test, dt.predict(X_test))) \n",
    "print(\"--------------------------------------------------------\")\n",
    "print(metrics.classification_report(y_test, dt.predict(X_test)))\n",
    "print(\"--------------------------------------------------------\")\n",
    "\n"
   ]
  },
  {
   "cell_type": "code",
   "execution_count": 254,
   "metadata": {},
   "outputs": [
    {
     "data": {
      "image/png": "[encoded data removed]",
      "text/plain": [
       "<Figure size 432x288 with 2 Axes>"
      ]
     },
     "metadata": {
      "needs_background": "light"
     },
     "output_type": "display_data"
    }
   ],
   "source": [
    "# Lets make this Confusion Matrix a little more Pretty\n",
    "import scikitplot as skplt\n",
    "\n",
    "skplt.metrics.plot_confusion_matrix(y_true=np.array(y_test), y_pred=dt.predict(X_test))\n",
    "plt.show()"
   ]
  },
  {
   "cell_type": "markdown",
   "metadata": {},
   "source": [
    "## RandomForestGenerator"
   ]
  },
  {
   "cell_type": "code",
   "execution_count": 255,
   "metadata": {},
   "outputs": [
    {
     "data": {
      "text/plain": [
       "0.5323868677905945"
      ]
     },
     "execution_count": 255,
     "metadata": {},
     "output_type": "execute_result"
    }
   ],
   "source": [
    "# Like Multiple DecisionTrees all rolled into one model\n",
    "from sklearn.ensemble import RandomForestClassifier\n",
    "\n",
    "clf = RandomForestClassifier(n_estimators=20)    #building 20 decision trees\n",
    "clf=clf.fit(X_train, y_train)\n",
    "clf.score(X_test, y_test)"
   ]
  },
  {
   "cell_type": "code",
   "execution_count": 256,
   "metadata": {},
   "outputs": [
    {
     "name": "stdout",
     "output_type": "stream",
     "text": [
      "0.5323868677905945\n",
      "[[215  56  27   5]\n",
      " [ 78 129  59  17]\n",
      " [ 37  96  90  52]\n",
      " [  3  36  61 166]]\n",
      "              precision    recall  f1-score   support\n",
      "\n",
      "           0       0.65      0.71      0.68       303\n",
      "           1       0.41      0.46      0.43       283\n",
      "           2       0.38      0.33      0.35       275\n",
      "           3       0.69      0.62      0.66       266\n",
      "\n",
      "   micro avg       0.53      0.53      0.53      1127\n",
      "   macro avg       0.53      0.53      0.53      1127\n",
      "weighted avg       0.53      0.53      0.53      1127\n",
      "\n"
     ]
    }
   ],
   "source": [
    "# generate evaluation metrics\n",
    "print(metrics.accuracy_score(y_test, clf.predict(X_test))) #overall accuracy\n",
    "print(metrics.confusion_matrix(y_test, clf.predict(X_test)))\n",
    "print(metrics.classification_report(y_test, clf.predict(X_test)))"
   ]
  },
  {
   "cell_type": "markdown",
   "metadata": {},
   "source": [
    "### As you can see this model has given us our best results so far as to what makes a movie successful."
   ]
  },
  {
   "cell_type": "markdown",
   "metadata": {},
   "source": [
    "# 8. Clustering"
   ]
  },
  {
   "cell_type": "code",
   "execution_count": 257,
   "metadata": {},
   "outputs": [
    {
     "name": "stdout",
     "output_type": "stream",
     "text": [
      "<class 'pandas.core.frame.DataFrame'>\n",
      "Int64Index: 3756 entries, 0 to 5042\n",
      "Data columns (total 24 columns):\n",
      "color                        3756 non-null object\n",
      "director_name                3756 non-null object\n",
      "num_critic_for_reviews       3756 non-null float64\n",
      "duration                     3756 non-null float64\n",
      "director_facebook_likes      3756 non-null float64\n",
      "actor_2_name                 3756 non-null object\n",
      "gross                        3756 non-null float64\n",
      "genres                       3756 non-null object\n",
      "actor_1_name                 3756 non-null object\n",
      "movie_title                  3756 non-null object\n",
      "num_voted_users              3756 non-null int64\n",
      "cast_total_facebook_likes    3756 non-null int64\n",
      "actor_3_name                 3756 non-null object\n",
      "plot_keywords                3756 non-null object\n",
      "movie_imdb_link              3756 non-null object\n",
      "num_user_for_reviews         3756 non-null float64\n",
      "language                     3756 non-null object\n",
      "country                      3756 non-null object\n",
      "content_rating               3756 non-null object\n",
      "budget                       3756 non-null float64\n",
      "title_year                   3756 non-null float64\n",
      "imdb_score                   3756 non-null float64\n",
      "movie_facebook_likes         3756 non-null int64\n",
      "imdb_bins                    3756 non-null int8\n",
      "dtypes: float64(8), int64(3), int8(1), object(12)\n",
      "memory usage: 707.9+ KB\n"
     ]
    }
   ],
   "source": [
    "df.info()"
   ]
  },
  {
   "cell_type": "code",
   "execution_count": 258,
   "metadata": {},
   "outputs": [
    {
     "data": {
      "text/html": [
       "<div>\n",
       "<style scoped>\n",
       "    .dataframe tbody tr th:only-of-type {\n",
       "        vertical-align: middle;\n",
       "    }\n",
       "\n",
       "    .dataframe tbody tr th {\n",
       "        vertical-align: top;\n",
       "    }\n",
       "\n",
       "    .dataframe thead th {\n",
       "        text-align: right;\n",
       "    }\n",
       "</style>\n",
       "<table border=\"1\" class=\"dataframe\">\n",
       "  <thead>\n",
       "    <tr style=\"text-align: right;\">\n",
       "      <th></th>\n",
       "      <th>num_critic_for_reviews</th>\n",
       "      <th>duration</th>\n",
       "      <th>director_facebook_likes</th>\n",
       "      <th>gross</th>\n",
       "      <th>num_voted_users</th>\n",
       "      <th>cast_total_facebook_likes</th>\n",
       "      <th>num_user_for_reviews</th>\n",
       "      <th>budget</th>\n",
       "      <th>title_year</th>\n",
       "      <th>imdb_score</th>\n",
       "      <th>movie_facebook_likes</th>\n",
       "      <th>imdb_bins</th>\n",
       "    </tr>\n",
       "  </thead>\n",
       "  <tbody>\n",
       "    <tr>\n",
       "      <th>0</th>\n",
       "      <td>723.0</td>\n",
       "      <td>178.0</td>\n",
       "      <td>0.0</td>\n",
       "      <td>760505847.0</td>\n",
       "      <td>886204</td>\n",
       "      <td>4834</td>\n",
       "      <td>3054.0</td>\n",
       "      <td>237000000.0</td>\n",
       "      <td>2009.0</td>\n",
       "      <td>7.9</td>\n",
       "      <td>33000</td>\n",
       "      <td>3</td>\n",
       "    </tr>\n",
       "    <tr>\n",
       "      <th>1</th>\n",
       "      <td>302.0</td>\n",
       "      <td>169.0</td>\n",
       "      <td>563.0</td>\n",
       "      <td>309404152.0</td>\n",
       "      <td>471220</td>\n",
       "      <td>48350</td>\n",
       "      <td>1238.0</td>\n",
       "      <td>300000000.0</td>\n",
       "      <td>2007.0</td>\n",
       "      <td>7.1</td>\n",
       "      <td>0</td>\n",
       "      <td>2</td>\n",
       "    </tr>\n",
       "  </tbody>\n",
       "</table>\n",
       "</div>"
      ],
      "text/plain": [
       "   num_critic_for_reviews  duration  director_facebook_likes        gross  \\\n",
       "0                   723.0     178.0                      0.0  760505847.0   \n",
       "1                   302.0     169.0                    563.0  309404152.0   \n",
       "\n",
       "   num_voted_users  cast_total_facebook_likes  num_user_for_reviews  \\\n",
       "0           886204                       4834                3054.0   \n",
       "1           471220                      48350                1238.0   \n",
       "\n",
       "        budget  title_year  imdb_score  movie_facebook_likes  imdb_bins  \n",
       "0  237000000.0      2009.0         7.9                 33000          3  \n",
       "1  300000000.0      2007.0         7.1                     0          2  "
      ]
     },
     "execution_count": 258,
     "metadata": {},
     "output_type": "execute_result"
    }
   ],
   "source": [
    "# Need to get rid of the categorical variables and only view those that are quantitative so that we can normalize the data\n",
    "df2 = df.drop(['color', 'actor_2_name', 'genres', 'director_name', 'actor_1_name', 'movie_title', 'actor_3_name', 'plot_keywords', 'movie_imdb_link', 'language', 'country', 'content_rating'], axis = 1)\n",
    "df2.head(2)"
   ]
  },
  {
   "cell_type": "code",
   "execution_count": 259,
   "metadata": {},
   "outputs": [
    {
     "data": {
      "text/html": [
       "<div>\n",
       "<style scoped>\n",
       "    .dataframe tbody tr th:only-of-type {\n",
       "        vertical-align: middle;\n",
       "    }\n",
       "\n",
       "    .dataframe tbody tr th {\n",
       "        vertical-align: top;\n",
       "    }\n",
       "\n",
       "    .dataframe thead th {\n",
       "        text-align: right;\n",
       "    }\n",
       "</style>\n",
       "<table border=\"1\" class=\"dataframe\">\n",
       "  <thead>\n",
       "    <tr style=\"text-align: right;\">\n",
       "      <th></th>\n",
       "      <th>num_critic_for_reviews</th>\n",
       "      <th>duration</th>\n",
       "      <th>director_facebook_likes</th>\n",
       "      <th>gross</th>\n",
       "      <th>num_voted_users</th>\n",
       "      <th>cast_total_facebook_likes</th>\n",
       "      <th>num_user_for_reviews</th>\n",
       "      <th>budget</th>\n",
       "      <th>title_year</th>\n",
       "      <th>imdb_score</th>\n",
       "      <th>movie_facebook_likes</th>\n",
       "      <th>imdb_bins</th>\n",
       "    </tr>\n",
       "  </thead>\n",
       "  <tbody>\n",
       "    <tr>\n",
       "      <th>0</th>\n",
       "      <td>0.685107</td>\n",
       "      <td>0.231201</td>\n",
       "      <td>-0.035102</td>\n",
       "      <td>0.930819</td>\n",
       "      <td>0.461851</td>\n",
       "      <td>-0.010192</td>\n",
       "      <td>0.537412</td>\n",
       "      <td>0.015616</td>\n",
       "      <td>0.067679</td>\n",
       "      <td>0.186327</td>\n",
       "      <td>0.067754</td>\n",
       "      <td>0.528044</td>\n",
       "    </tr>\n",
       "    <tr>\n",
       "      <th>1</th>\n",
       "      <td>0.165995</td>\n",
       "      <td>0.200485</td>\n",
       "      <td>-0.010623</td>\n",
       "      <td>0.337659</td>\n",
       "      <td>0.216251</td>\n",
       "      <td>0.056070</td>\n",
       "      <td>0.178235</td>\n",
       "      <td>0.020774</td>\n",
       "      <td>0.045207</td>\n",
       "      <td>0.082431</td>\n",
       "      <td>-0.026802</td>\n",
       "      <td>0.194711</td>\n",
       "    </tr>\n",
       "    <tr>\n",
       "      <th>2</th>\n",
       "      <td>0.535908</td>\n",
       "      <td>0.128812</td>\n",
       "      <td>-0.035102</td>\n",
       "      <td>0.193899</td>\n",
       "      <td>0.100636</td>\n",
       "      <td>0.000263</td>\n",
       "      <td>0.129976</td>\n",
       "      <td>0.016271</td>\n",
       "      <td>0.135095</td>\n",
       "      <td>0.043470</td>\n",
       "      <td>0.216751</td>\n",
       "      <td>0.194711</td>\n",
       "    </tr>\n",
       "    <tr>\n",
       "      <th>3</th>\n",
       "      <td>0.796081</td>\n",
       "      <td>0.183420</td>\n",
       "      <td>0.921420</td>\n",
       "      <td>0.520072</td>\n",
       "      <td>0.614622</td>\n",
       "      <td>0.145009</td>\n",
       "      <td>0.467594</td>\n",
       "      <td>0.016681</td>\n",
       "      <td>0.101387</td>\n",
       "      <td>0.264249</td>\n",
       "      <td>0.443112</td>\n",
       "      <td>0.528044</td>\n",
       "    </tr>\n",
       "    <tr>\n",
       "      <th>5</th>\n",
       "      <td>0.363282</td>\n",
       "      <td>0.074205</td>\n",
       "      <td>-0.014449</td>\n",
       "      <td>0.026885</td>\n",
       "      <td>0.062957</td>\n",
       "      <td>-0.014700</td>\n",
       "      <td>0.079343</td>\n",
       "      <td>0.017802</td>\n",
       "      <td>0.101387</td>\n",
       "      <td>0.017496</td>\n",
       "      <td>0.041966</td>\n",
       "      <td>-0.138623</td>\n",
       "    </tr>\n",
       "  </tbody>\n",
       "</table>\n",
       "</div>"
      ],
      "text/plain": [
       "   num_critic_for_reviews  duration  director_facebook_likes     gross  \\\n",
       "0                0.685107  0.231201                -0.035102  0.930819   \n",
       "1                0.165995  0.200485                -0.010623  0.337659   \n",
       "2                0.535908  0.128812                -0.035102  0.193899   \n",
       "3                0.796081  0.183420                 0.921420  0.520072   \n",
       "5                0.363282  0.074205                -0.014449  0.026885   \n",
       "\n",
       "   num_voted_users  cast_total_facebook_likes  num_user_for_reviews    budget  \\\n",
       "0         0.461851                  -0.010192              0.537412  0.015616   \n",
       "1         0.216251                   0.056070              0.178235  0.020774   \n",
       "2         0.100636                   0.000263              0.129976  0.016271   \n",
       "3         0.614622                   0.145009              0.467594  0.016681   \n",
       "5         0.062957                  -0.014700              0.079343  0.017802   \n",
       "\n",
       "   title_year  imdb_score  movie_facebook_likes  imdb_bins  \n",
       "0    0.067679    0.186327              0.067754   0.528044  \n",
       "1    0.045207    0.082431             -0.026802   0.194711  \n",
       "2    0.135095    0.043470              0.216751   0.194711  \n",
       "3    0.101387    0.264249              0.443112   0.528044  \n",
       "5    0.101387    0.017496              0.041966  -0.138623  "
      ]
     },
     "execution_count": 259,
     "metadata": {},
     "output_type": "execute_result"
    }
   ],
   "source": [
    "# Normalizing the data\n",
    "df_norm = (df2 - df2.mean()) / (df2.max() - df2.min())\n",
    "df_norm.head()"
   ]
  },
  {
   "cell_type": "code",
   "execution_count": 260,
   "metadata": {},
   "outputs": [],
   "source": [
    "# Making 3 clusters to give us a better idea of what makes movies good\n",
    "k_means = KMeans(init='k-means++', n_clusters=3, random_state=0)"
   ]
  },
  {
   "cell_type": "code",
   "execution_count": 261,
   "metadata": {},
   "outputs": [
    {
     "data": {
      "text/plain": [
       "KMeans(algorithm='auto', copy_x=True, init='k-means++', max_iter=300,\n",
       "    n_clusters=3, n_init=10, n_jobs=None, precompute_distances='auto',\n",
       "    random_state=0, tol=0.0001, verbose=0)"
      ]
     },
     "execution_count": 261,
     "metadata": {},
     "output_type": "execute_result"
    }
   ],
   "source": [
    "k_means.fit(df2)"
   ]
  },
  {
   "cell_type": "code",
   "execution_count": 262,
   "metadata": {},
   "outputs": [
    {
     "data": {
      "text/plain": [
       "array([[1.67356971e+02, 1.10246868e+02, 8.06624633e+02, 5.26815383e+07,\n",
       "        1.05870950e+05, 1.15409232e+04, 3.36997867e+02, 4.00486770e+07,\n",
       "        2.00297601e+03, 6.46400960e+00, 9.36001146e+03, 1.41455612e+00],\n",
       "       [3.63000000e+02, 1.10000000e+02, 5.84000000e+02, 2.20141200e+06,\n",
       "        6.88830000e+04, 1.17300000e+03, 2.79000000e+02, 1.22155000e+10,\n",
       "        2.00600000e+03, 7.00000000e+00, 7.00000000e+03, 2.00000000e+00],\n",
       "       [1.38500000e+02, 1.20750000e+02, 1.53075000e+03, 7.79033500e+05,\n",
       "        7.35975000e+04, 1.15475000e+03, 2.06250000e+02, 2.80687997e+09,\n",
       "        2.00275000e+03, 7.52500000e+00, 4.14500000e+03, 2.50000000e+00]])"
      ]
     },
     "execution_count": 262,
     "metadata": {},
     "output_type": "execute_result"
    }
   ],
   "source": [
    "k_means.cluster_centers_"
   ]
  },
  {
   "cell_type": "code",
   "execution_count": 263,
   "metadata": {},
   "outputs": [
    {
     "data": {
      "text/html": [
       "<div>\n",
       "<style scoped>\n",
       "    .dataframe tbody tr th:only-of-type {\n",
       "        vertical-align: middle;\n",
       "    }\n",
       "\n",
       "    .dataframe tbody tr th {\n",
       "        vertical-align: top;\n",
       "    }\n",
       "\n",
       "    .dataframe thead th {\n",
       "        text-align: right;\n",
       "    }\n",
       "</style>\n",
       "<table border=\"1\" class=\"dataframe\">\n",
       "  <thead>\n",
       "    <tr style=\"text-align: right;\">\n",
       "      <th></th>\n",
       "      <th>cluster</th>\n",
       "    </tr>\n",
       "  </thead>\n",
       "  <tbody>\n",
       "    <tr>\n",
       "      <th>0</th>\n",
       "      <td>0</td>\n",
       "    </tr>\n",
       "    <tr>\n",
       "      <th>1</th>\n",
       "      <td>0</td>\n",
       "    </tr>\n",
       "    <tr>\n",
       "      <th>2</th>\n",
       "      <td>0</td>\n",
       "    </tr>\n",
       "    <tr>\n",
       "      <th>3</th>\n",
       "      <td>0</td>\n",
       "    </tr>\n",
       "    <tr>\n",
       "      <th>4</th>\n",
       "      <td>0</td>\n",
       "    </tr>\n",
       "  </tbody>\n",
       "</table>\n",
       "</div>"
      ],
      "text/plain": [
       "   cluster\n",
       "0        0\n",
       "1        0\n",
       "2        0\n",
       "3        0\n",
       "4        0"
      ]
     },
     "execution_count": 263,
     "metadata": {},
     "output_type": "execute_result"
    }
   ],
   "source": [
    "# Adding a new column to the dataframe that shows our new clusters\n",
    "df1 = pd.DataFrame(k_means.labels_, columns = ['cluster'])\n",
    "df1.head()"
   ]
  },
  {
   "cell_type": "code",
   "execution_count": 264,
   "metadata": {},
   "outputs": [
    {
     "data": {
      "text/html": [
       "<div>\n",
       "<style scoped>\n",
       "    .dataframe tbody tr th:only-of-type {\n",
       "        vertical-align: middle;\n",
       "    }\n",
       "\n",
       "    .dataframe tbody tr th {\n",
       "        vertical-align: top;\n",
       "    }\n",
       "\n",
       "    .dataframe thead th {\n",
       "        text-align: right;\n",
       "    }\n",
       "</style>\n",
       "<table border=\"1\" class=\"dataframe\">\n",
       "  <thead>\n",
       "    <tr style=\"text-align: right;\">\n",
       "      <th></th>\n",
       "      <th>num_critic_for_reviews</th>\n",
       "      <th>duration</th>\n",
       "      <th>director_facebook_likes</th>\n",
       "      <th>gross</th>\n",
       "      <th>num_voted_users</th>\n",
       "      <th>cast_total_facebook_likes</th>\n",
       "      <th>num_user_for_reviews</th>\n",
       "      <th>budget</th>\n",
       "      <th>title_year</th>\n",
       "      <th>imdb_score</th>\n",
       "      <th>movie_facebook_likes</th>\n",
       "      <th>imdb_bins</th>\n",
       "      <th>cluster</th>\n",
       "    </tr>\n",
       "  </thead>\n",
       "  <tbody>\n",
       "    <tr>\n",
       "      <th>0</th>\n",
       "      <td>0.685107</td>\n",
       "      <td>0.231201</td>\n",
       "      <td>-0.035102</td>\n",
       "      <td>0.930819</td>\n",
       "      <td>0.461851</td>\n",
       "      <td>-0.010192</td>\n",
       "      <td>0.537412</td>\n",
       "      <td>0.015616</td>\n",
       "      <td>0.067679</td>\n",
       "      <td>0.186327</td>\n",
       "      <td>0.067754</td>\n",
       "      <td>0.528044</td>\n",
       "      <td>0.0</td>\n",
       "    </tr>\n",
       "    <tr>\n",
       "      <th>1</th>\n",
       "      <td>0.165995</td>\n",
       "      <td>0.200485</td>\n",
       "      <td>-0.010623</td>\n",
       "      <td>0.337659</td>\n",
       "      <td>0.216251</td>\n",
       "      <td>0.056070</td>\n",
       "      <td>0.178235</td>\n",
       "      <td>0.020774</td>\n",
       "      <td>0.045207</td>\n",
       "      <td>0.082431</td>\n",
       "      <td>-0.026802</td>\n",
       "      <td>0.194711</td>\n",
       "      <td>0.0</td>\n",
       "    </tr>\n",
       "    <tr>\n",
       "      <th>2</th>\n",
       "      <td>0.535908</td>\n",
       "      <td>0.128812</td>\n",
       "      <td>-0.035102</td>\n",
       "      <td>0.193899</td>\n",
       "      <td>0.100636</td>\n",
       "      <td>0.000263</td>\n",
       "      <td>0.129976</td>\n",
       "      <td>0.016271</td>\n",
       "      <td>0.135095</td>\n",
       "      <td>0.043470</td>\n",
       "      <td>0.216751</td>\n",
       "      <td>0.194711</td>\n",
       "      <td>0.0</td>\n",
       "    </tr>\n",
       "    <tr>\n",
       "      <th>3</th>\n",
       "      <td>0.796081</td>\n",
       "      <td>0.183420</td>\n",
       "      <td>0.921420</td>\n",
       "      <td>0.520072</td>\n",
       "      <td>0.614622</td>\n",
       "      <td>0.145009</td>\n",
       "      <td>0.467594</td>\n",
       "      <td>0.016681</td>\n",
       "      <td>0.101387</td>\n",
       "      <td>0.264249</td>\n",
       "      <td>0.443112</td>\n",
       "      <td>0.528044</td>\n",
       "      <td>0.0</td>\n",
       "    </tr>\n",
       "    <tr>\n",
       "      <th>5</th>\n",
       "      <td>0.363282</td>\n",
       "      <td>0.074205</td>\n",
       "      <td>-0.014449</td>\n",
       "      <td>0.026885</td>\n",
       "      <td>0.062957</td>\n",
       "      <td>-0.014700</td>\n",
       "      <td>0.079343</td>\n",
       "      <td>0.017802</td>\n",
       "      <td>0.101387</td>\n",
       "      <td>0.017496</td>\n",
       "      <td>0.041966</td>\n",
       "      <td>-0.138623</td>\n",
       "      <td>0.0</td>\n",
       "    </tr>\n",
       "  </tbody>\n",
       "</table>\n",
       "</div>"
      ],
      "text/plain": [
       "   num_critic_for_reviews  duration  director_facebook_likes     gross  \\\n",
       "0                0.685107  0.231201                -0.035102  0.930819   \n",
       "1                0.165995  0.200485                -0.010623  0.337659   \n",
       "2                0.535908  0.128812                -0.035102  0.193899   \n",
       "3                0.796081  0.183420                 0.921420  0.520072   \n",
       "5                0.363282  0.074205                -0.014449  0.026885   \n",
       "\n",
       "   num_voted_users  cast_total_facebook_likes  num_user_for_reviews    budget  \\\n",
       "0         0.461851                  -0.010192              0.537412  0.015616   \n",
       "1         0.216251                   0.056070              0.178235  0.020774   \n",
       "2         0.100636                   0.000263              0.129976  0.016271   \n",
       "3         0.614622                   0.145009              0.467594  0.016681   \n",
       "5         0.062957                  -0.014700              0.079343  0.017802   \n",
       "\n",
       "   title_year  imdb_score  movie_facebook_likes  imdb_bins  cluster  \n",
       "0    0.067679    0.186327              0.067754   0.528044      0.0  \n",
       "1    0.045207    0.082431             -0.026802   0.194711      0.0  \n",
       "2    0.135095    0.043470              0.216751   0.194711      0.0  \n",
       "3    0.101387    0.264249              0.443112   0.528044      0.0  \n",
       "5    0.101387    0.017496              0.041966  -0.138623      0.0  "
      ]
     },
     "execution_count": 264,
     "metadata": {},
     "output_type": "execute_result"
    }
   ],
   "source": [
    "# Joining the dataframes \n",
    "df2 = df_norm.join(df1)\n",
    "df2.head()"
   ]
  },
  {
   "cell_type": "code",
   "execution_count": 265,
   "metadata": {},
   "outputs": [
    {
     "data": {
      "text/html": [
       "<div>\n",
       "<style scoped>\n",
       "    .dataframe tbody tr th:only-of-type {\n",
       "        vertical-align: middle;\n",
       "    }\n",
       "\n",
       "    .dataframe tbody tr th {\n",
       "        vertical-align: top;\n",
       "    }\n",
       "\n",
       "    .dataframe thead th {\n",
       "        text-align: right;\n",
       "    }\n",
       "</style>\n",
       "<table border=\"1\" class=\"dataframe\">\n",
       "  <thead>\n",
       "    <tr style=\"text-align: right;\">\n",
       "      <th></th>\n",
       "      <th>num_critic_for_reviews</th>\n",
       "      <th>duration</th>\n",
       "      <th>director_facebook_likes</th>\n",
       "      <th>gross</th>\n",
       "      <th>num_voted_users</th>\n",
       "      <th>cast_total_facebook_likes</th>\n",
       "      <th>num_user_for_reviews</th>\n",
       "      <th>budget</th>\n",
       "      <th>title_year</th>\n",
       "      <th>imdb_score</th>\n",
       "      <th>movie_facebook_likes</th>\n",
       "      <th>imdb_bins</th>\n",
       "    </tr>\n",
       "    <tr>\n",
       "      <th>cluster</th>\n",
       "      <th></th>\n",
       "      <th></th>\n",
       "      <th></th>\n",
       "      <th></th>\n",
       "      <th></th>\n",
       "      <th></th>\n",
       "      <th></th>\n",
       "      <th></th>\n",
       "      <th></th>\n",
       "      <th></th>\n",
       "      <th></th>\n",
       "      <th></th>\n",
       "    </tr>\n",
       "  </thead>\n",
       "  <tbody>\n",
       "    <tr>\n",
       "      <th>0.0</th>\n",
       "      <td>0.008290</td>\n",
       "      <td>0.005479</td>\n",
       "      <td>0.003476</td>\n",
       "      <td>0.008528</td>\n",
       "      <td>0.005370</td>\n",
       "      <td>0.001423</td>\n",
       "      <td>0.003891</td>\n",
       "      <td>0.000404</td>\n",
       "      <td>0.005864</td>\n",
       "      <td>-0.004341</td>\n",
       "      <td>0.001957</td>\n",
       "      <td>-0.013311</td>\n",
       "    </tr>\n",
       "    <tr>\n",
       "      <th>1.0</th>\n",
       "      <td>-0.150898</td>\n",
       "      <td>0.012771</td>\n",
       "      <td>-0.031928</td>\n",
       "      <td>-0.049326</td>\n",
       "      <td>-0.049140</td>\n",
       "      <td>-0.012308</td>\n",
       "      <td>-0.047635</td>\n",
       "      <td>-0.002557</td>\n",
       "      <td>-0.213220</td>\n",
       "      <td>-0.060426</td>\n",
       "      <td>-0.026802</td>\n",
       "      <td>-0.138623</td>\n",
       "    </tr>\n",
       "    <tr>\n",
       "      <th>2.0</th>\n",
       "      <td>-0.122538</td>\n",
       "      <td>-0.002587</td>\n",
       "      <td>-0.033917</td>\n",
       "      <td>-0.049234</td>\n",
       "      <td>-0.055866</td>\n",
       "      <td>-0.003035</td>\n",
       "      <td>-0.042097</td>\n",
       "      <td>-0.002422</td>\n",
       "      <td>-0.016591</td>\n",
       "      <td>-0.109128</td>\n",
       "      <td>-0.025542</td>\n",
       "      <td>-0.055289</td>\n",
       "    </tr>\n",
       "  </tbody>\n",
       "</table>\n",
       "</div>"
      ],
      "text/plain": [
       "         num_critic_for_reviews  duration  director_facebook_likes     gross  \\\n",
       "cluster                                                                        \n",
       "0.0                    0.008290  0.005479                 0.003476  0.008528   \n",
       "1.0                   -0.150898  0.012771                -0.031928 -0.049326   \n",
       "2.0                   -0.122538 -0.002587                -0.033917 -0.049234   \n",
       "\n",
       "         num_voted_users  cast_total_facebook_likes  num_user_for_reviews  \\\n",
       "cluster                                                                     \n",
       "0.0             0.005370                   0.001423              0.003891   \n",
       "1.0            -0.049140                  -0.012308             -0.047635   \n",
       "2.0            -0.055866                  -0.003035             -0.042097   \n",
       "\n",
       "           budget  title_year  imdb_score  movie_facebook_likes  imdb_bins  \n",
       "cluster                                                                     \n",
       "0.0      0.000404    0.005864   -0.004341              0.001957  -0.013311  \n",
       "1.0     -0.002557   -0.213220   -0.060426             -0.026802  -0.138623  \n",
       "2.0     -0.002422   -0.016591   -0.109128             -0.025542  -0.055289  "
      ]
     },
     "execution_count": 265,
     "metadata": {},
     "output_type": "execute_result"
    }
   ],
   "source": [
    "# Lets see the average values for the variables in each cluster\n",
    "df2.groupby(['cluster']).mean() "
   ]
  },
  {
   "cell_type": "markdown",
   "metadata": {},
   "source": [
    "## Profiling the Clusters"
   ]
  },
  {
   "cell_type": "markdown",
   "metadata": {},
   "source": [
    "### Cluster 0: High Budget, High IMDB Score, Large number of voted users, high gross earnings\n",
    "### Cluster 1: Average Budget, Average IMDB Score, Low number of voted users, low gross earnings\n",
    "### Cluster 2: Low Budget, Low IMDB Score, Low Number of Voted Users, low Gross earnings"
   ]
  },
  {
   "cell_type": "markdown",
   "metadata": {},
   "source": [
    "# 9. Storytelling"
   ]
  },
  {
   "cell_type": "markdown",
   "metadata": {},
   "source": [
    "## In this project I have analyzed all of the data and moved through the different steps of cleaning the data and choosing which variables I thought would be very influential to the overall IMDB scores of these movies. Something that was versus surprising was the types of data that I kind in this set. I really expected there to be more money figures in the dataset because it seems that these types of data points would be most influential on the overall rating of the movies. When I saw that the data points were mainly based around reviews both by movie critics and by people on social media sites such as Facebook then I knew the correlation would be much more related to personal opinion by viewers instead of the actual box office performance of the films. For instance, I thought for sure that overall budget and gross earnings would reflect greatly on the performance of the movies in terms of IMDb ratings. But was shocked to see that the only variables that somewhat strong positive correlation with IMDb score were variables that had to do with reviews such as the number of voted users and number of critics for reviews. Something that I thought would be positively correlated with IMDb score that was actually accurate was duration. It had a slight positive correlation with IMDb score.\n",
    "\n",
    "## After visualizing the data and performing a correlation analysis, I decided to creat some Machine-Learning models to be deployed on the data to find out more on what causes a movie to have a high IMDB Score and in turn be a more successful movie. After doing a regression analysis I found that the variance in the variables given had a 35% direct affect on the variance of the dependent variable 'imdb_score'. This was not a good predictor for what makes a good movie so it does follow along with what I found in the correlation analysis. The next step was to create some classification models to determine what level of IMDB Score the movie received. These classification models that i created that included a DecisionTreeClassifier and a Random Forest Generator did a much better job of determining what the IMDB Score for each movie should be based on all of the variables given in the dataset.The Random Forest Generator got up to a confidence level of over 53% which tells me that this data does have some helpful variables in it to be a somewhat reliable predictor of movie success. The next analysis that was done was a Clustering Analysis to put all of the different movies into different clusters in order to give them a category that they fit in as far as grouping the variable data together to give us an idea of what average values were for the variables of each cluster. These clusters direct reflect what it takes for a movie to be bad or great.\n",
    "\n",
    "## Overall I think that this data could have had some better variables of interest in order to find a better correlation with how a movie performs. I highly recommend that different data points are gathered in order to be able to appropriately create movies that the audiences will love. Whether it was through simple analyses of the data or more intensive analyses that included machine learning I still feel like the data could have been a little more useful had there been more datapoints and more important variables that correlated more to the movies dependent variable, 'imdb_score'.\n"
   ]
  },
  {
   "cell_type": "code",
   "execution_count": null,
   "metadata": {},
   "outputs": [],
   "source": []
  }
 ],
 "metadata": {
  "kernelspec": {
   "display_name": "Python 3",
   "language": "python",
   "name": "python3"
  },
  "language_info": {
   "codemirror_mode": {
    "name": "ipython",
    "version": 3
   },
   "file_extension": ".py",
   "mimetype": "text/x-python",
   "name": "python",
   "nbconvert_exporter": "python",
   "pygments_lexer": "ipython3",
   "version": "3.7.1"
  }
 },
 "nbformat": 4,
 "nbformat_minor": 2
}
